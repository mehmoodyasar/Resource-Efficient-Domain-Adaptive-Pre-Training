{
  "nbformat": 4,
  "nbformat_minor": 0,
  "metadata": {
    "colab": {
      "name": "GitHub_Robustness.ipynb",
      "provenance": [],
      "collapsed_sections": []
    },
    "kernelspec": {
      "name": "python3",
      "display_name": "Python 3"
    },
    "language_info": {
      "name": "python"
    }
  },
  "cells": [
    {
      "cell_type": "code",
      "execution_count": null,
      "metadata": {
        "id": "UHOmuvsUCjzm"
      },
      "outputs": [],
      "source": [
        "#import necessary libraries\n",
        "import numpy as np\n",
        "from keras import models \n",
        "from sklearn.metrics import roc_curve, auc, roc_auc_score"
      ]
    },
    {
      "cell_type": "code",
      "source": [
        "#Run this cell only if your data resides on Google drive\n",
        "from google.colab import drive\n",
        "drive.mount('/content/gdrive')"
      ],
      "metadata": {
        "id": "knT7JchA4PPB"
      },
      "execution_count": null,
      "outputs": []
    },
    {
      "cell_type": "code",
      "source": [
        "#Set base_path to the location where the data and results of your project\n",
        "#reside\n",
        "base_path = '/content/gdrive/MyDrive/HPT/'"
      ],
      "metadata": {
        "id": "aFRB76dk4akg"
      },
      "execution_count": null,
      "outputs": []
    },
    {
      "cell_type": "code",
      "source": [
        "#Prepare TestY using the Features\n",
        "meningioma_labels = np.zeros((937, 1), dtype=np.uint8)\n",
        "glioma_labels = np.zeros((926, 1), dtype=np.uint8)\n",
        "glioma_labels[:, 0] = 1\n",
        "\n",
        "pituitary_labels = np.zeros((901, 1), dtype=np.uint8)\n",
        "pituitary_labels[:, 0] = 2\n",
        "\n",
        "TestY_Raw = np.concatenate((meningioma_labels, glioma_labels, pituitary_labels), axis=0)\n",
        "TestY = to_categorical(TestY_Raw, dtype =\"uint8\")\n"
      ],
      "metadata": {
        "id": "BxjGShy0EV-B"
      },
      "execution_count": null,
      "outputs": []
    },
    {
      "cell_type": "markdown",
      "source": [
        "#Function to Evaluate the Robustness for Each Strategy Using Kaggle BTTC Features"
      ],
      "metadata": {
        "id": "cESKNPEIDCb5"
      }
    },
    {
      "cell_type": "code",
      "source": [
        "def evaluate_model(strategy, model_number):\n",
        "  test_set_auc = np.zeros((500,))\n",
        "  checkpoint_path = base_path + 'Results/' + strategy + '/CE-MRI/Robustness/Model ' + str(model_number) + '/'\n",
        "  \n",
        "  #load features for the strategy\n",
        "  Meningioma_Features = np.load(base_path + 'Features/' + strategy + '/Kaggle BTTC/Meningioma_Features.npy')\n",
        "  Glioma_Features = np.load(base_path + 'Features/' + strategy + '/Kaggle BTTC/Glioma_Features.npy')\n",
        "  Pituitary_Features = np.load(base_path + 'Features/' + strategy + '/Kaggle BTTC/Pituitary_Features.npy')\n",
        "\n",
        "  TestX = np.concatenate((Meningioma_Features, Glioma_Features, Pituitary_Features), axis=0)\n",
        "  \n",
        "  for i in range(1, 501):\n",
        "    loaded_model = models.load_model(checkpoint_path + 'checkpoint-' + str(i) + '.h5')\n",
        "    y_pred = loaded_model.predict(TestX, steps=TestX.shape[0], verbose=0)\n",
        "    test_set_auc[i] = roc_auc_score(TestY, y_pred, average=\"macro\")\n",
        "\n",
        "  #save test set AUC for all the epochs (1 to 500)\n",
        "  np.save(checkpoint_path + 'TestAUC.npy', test_set_auc)"
      ],
      "metadata": {
        "id": "htdG_RGYC9co"
      },
      "execution_count": null,
      "outputs": []
    },
    {
      "cell_type": "markdown",
      "source": [
        "#Evaluate Robustness for Each Strategy by Calling the Function"
      ],
      "metadata": {
        "id": "VLLUCSU-Pr0Q"
      }
    },
    {
      "cell_type": "markdown",
      "source": [
        "TF_F1B"
      ],
      "metadata": {
        "id": "lvztUQNWP5Zv"
      }
    },
    {
      "cell_type": "code",
      "source": [
        "evaluate_model(\"DA_TF_F1B\", 1)"
      ],
      "metadata": {
        "id": "5pCGykmbPflA"
      },
      "execution_count": null,
      "outputs": []
    },
    {
      "cell_type": "code",
      "source": [
        "evaluate_model(\"DA_TF_F1B\", 2)"
      ],
      "metadata": {
        "id": "x5ZtgS4IQDyY"
      },
      "execution_count": null,
      "outputs": []
    },
    {
      "cell_type": "code",
      "source": [
        "evaluate_model(\"ImageNet_TF_F1B\", 1)"
      ],
      "metadata": {
        "id": "G5zSHxuVPngh"
      },
      "execution_count": null,
      "outputs": []
    },
    {
      "cell_type": "code",
      "source": [
        "evaluate_model(\"ImageNet_TF_F1B\", 2)"
      ],
      "metadata": {
        "id": "Mv37CbAgQGo4"
      },
      "execution_count": null,
      "outputs": []
    },
    {
      "cell_type": "markdown",
      "source": [
        "TF_F2B"
      ],
      "metadata": {
        "id": "zOwIvPQEQKsD"
      }
    },
    {
      "cell_type": "code",
      "source": [
        "evaluate_model(\"DA_TF_F2B\", 1)"
      ],
      "metadata": {
        "id": "sPbi8xyiQKsD"
      },
      "execution_count": null,
      "outputs": []
    },
    {
      "cell_type": "code",
      "source": [
        "evaluate_model(\"DA_TF_F2B\", 2)"
      ],
      "metadata": {
        "id": "vvr-HcSTQKsE"
      },
      "execution_count": null,
      "outputs": []
    },
    {
      "cell_type": "code",
      "source": [
        "evaluate_model(\"ImageNet_TF_F2B\", 1)"
      ],
      "metadata": {
        "id": "l0x-aH0tQKsF"
      },
      "execution_count": null,
      "outputs": []
    },
    {
      "cell_type": "code",
      "source": [
        "evaluate_model(\"ImageNet_TF_F2B\", 2)"
      ],
      "metadata": {
        "id": "Ufa9UqNiQKsG"
      },
      "execution_count": null,
      "outputs": []
    },
    {
      "cell_type": "markdown",
      "source": [
        "DA"
      ],
      "metadata": {
        "id": "VI_cgwXuQSzP"
      }
    },
    {
      "cell_type": "code",
      "source": [
        "evaluate_model(\"DA\", 1)"
      ],
      "metadata": {
        "id": "tNDwjzp4QV1i"
      },
      "execution_count": null,
      "outputs": []
    },
    {
      "cell_type": "code",
      "source": [
        "evaluate_model(\"DA\", 2)"
      ],
      "metadata": {
        "id": "Fe7YWKStQV1i"
      },
      "execution_count": null,
      "outputs": []
    },
    {
      "cell_type": "markdown",
      "source": [
        "DA_L1SB"
      ],
      "metadata": {
        "id": "v__i_4wxQZ08"
      }
    },
    {
      "cell_type": "code",
      "source": [
        "evaluate_model(\"DA_L1SB\", 1)"
      ],
      "metadata": {
        "id": "8_5IfvnoQZ09"
      },
      "execution_count": null,
      "outputs": []
    },
    {
      "cell_type": "code",
      "source": [
        "evaluate_model(\"DA_L1SB\", 2)"
      ],
      "metadata": {
        "id": "T-5BuXjoQZ09"
      },
      "execution_count": null,
      "outputs": []
    },
    {
      "cell_type": "markdown",
      "source": [
        "DA_L2SB"
      ],
      "metadata": {
        "id": "akRUH2fSQfrB"
      }
    },
    {
      "cell_type": "code",
      "source": [
        "evaluate_model(\"DA_L2SB\", 1)"
      ],
      "metadata": {
        "id": "cM7REiPrQfrB"
      },
      "execution_count": null,
      "outputs": []
    },
    {
      "cell_type": "code",
      "source": [
        "evaluate_model(\"DA_L2SB\", 2)"
      ],
      "metadata": {
        "id": "n5nv_oeEQfrC"
      },
      "execution_count": null,
      "outputs": []
    },
    {
      "cell_type": "markdown",
      "source": [
        "DA_L1SB_PFT"
      ],
      "metadata": {
        "id": "Bu1Pv-AVQlEw"
      }
    },
    {
      "cell_type": "code",
      "source": [
        "evaluate_model(\"DA_L1SB_PFT\", 1)"
      ],
      "metadata": {
        "id": "rXZtecuWQlEx"
      },
      "execution_count": null,
      "outputs": []
    },
    {
      "cell_type": "code",
      "source": [
        "evaluate_model(\"DA_L1SB_PFT\", 2)"
      ],
      "metadata": {
        "id": "P2ZzHYX6QlEx"
      },
      "execution_count": null,
      "outputs": []
    },
    {
      "cell_type": "markdown",
      "source": [
        "DA_L2SB_PFT"
      ],
      "metadata": {
        "id": "HwehCgxnQp9j"
      }
    },
    {
      "cell_type": "code",
      "source": [
        "evaluate_model(\"DA_L2SB_PFT\", 1)"
      ],
      "metadata": {
        "id": "EiPy7BAlQp9j"
      },
      "execution_count": null,
      "outputs": []
    },
    {
      "cell_type": "code",
      "source": [
        "evaluate_model(\"DA_L2SB_PFT\", 2)"
      ],
      "metadata": {
        "id": "9HSoT5SsQp9k"
      },
      "execution_count": null,
      "outputs": []
    },
    {
      "cell_type": "markdown",
      "source": [
        "ImageNet"
      ],
      "metadata": {
        "id": "OoTTuFfiQwMI"
      }
    },
    {
      "cell_type": "code",
      "source": [
        "evaluate_model(\"ImageNet\", 1)"
      ],
      "metadata": {
        "id": "P4giuoX1QwMJ"
      },
      "execution_count": null,
      "outputs": []
    },
    {
      "cell_type": "code",
      "source": [
        "evaluate_model(\"ImageNet\", 2)"
      ],
      "metadata": {
        "id": "Ri-0tpv0QwMJ"
      },
      "execution_count": null,
      "outputs": []
    }
  ]
}
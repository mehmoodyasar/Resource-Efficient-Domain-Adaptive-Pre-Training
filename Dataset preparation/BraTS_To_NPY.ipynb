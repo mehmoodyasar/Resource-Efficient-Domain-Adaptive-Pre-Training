{
  "nbformat": 4,
  "nbformat_minor": 0,
  "metadata": {
    "colab": {
      "name": "GitHub_BraTS_To_NPY.ipynb",
      "provenance": [],
      "collapsed_sections": []
    },
    "kernelspec": {
      "name": "python3",
      "display_name": "Python 3"
    },
    "language_info": {
      "name": "python"
    }
  },
  "cells": [
    {
      "cell_type": "markdown",
      "source": [
        "#General Information\n",
        "The list of all the cases in BraTS 2020 dataset has been included in a CSV file. This code reads that CSV to get the class of a case (LGG vs HGG), reads the T1 sequence MRI and its corresponding segemntation mask, and then stores only tumorous slices in an array. Finally, this array is saved as .npy file."
      ],
      "metadata": {
        "id": "suuz8jnyotIO"
      }
    },
    {
      "cell_type": "markdown",
      "source": [
        "#General Instructions\n",
        "Please extract the MICCAI_BraTS2020_TrainingData zip file to the folder Datasets/BraTS2020."
      ],
      "metadata": {
        "id": "8yalzYEEqgFF"
      }
    },
    {
      "cell_type": "code",
      "execution_count": null,
      "metadata": {
        "id": "ZGIXtRB5Dcud"
      },
      "outputs": [],
      "source": [
        "#import the necessary libraries\n",
        "import numpy as np\n",
        "import os\n",
        "import nibabel as nib\n",
        "import pandas as pd"
      ]
    },
    {
      "cell_type": "code",
      "source": [
        "#Run this cell only if your data resides on Google drive\n",
        "from google.colab import drive\n",
        "drive.mount('/content/gdrive')"
      ],
      "metadata": {
        "colab": {
          "base_uri": "https://localhost:8080/"
        },
        "id": "U-okrVYNDp4S",
        "outputId": "76ce18f7-0d9b-48fa-d67a-c02dd3da4ebe"
      },
      "execution_count": null,
      "outputs": [
        {
          "output_type": "stream",
          "name": "stdout",
          "text": [
            "Mounted at /content/gdrive\n"
          ]
        }
      ]
    },
    {
      "cell_type": "code",
      "source": [
        "#Set base_path to the location where the data and results of your project\n",
        "#reside\n",
        "base_path = '/content/gdrive/MyDrive/HPT/'"
      ],
      "metadata": {
        "id": "eNjwuWwdhXhj"
      },
      "execution_count": null,
      "outputs": []
    },
    {
      "cell_type": "code",
      "source": [
        "#read the CSV file with the list of patients\n",
        "pd_files_mappings = pd.read_csv(base_path + 'Datasets/BraTS2020/name_mapping.csv')"
      ],
      "metadata": {
        "id": "BzLVhuS4pdqX"
      },
      "execution_count": null,
      "outputs": []
    },
    {
      "cell_type": "code",
      "source": [
        "#filter the LGG and LGG class patients into two separate DataFrames.\n",
        "pd_HGG = pd_files_mappings[pd_files_mappings['Grade']=='HGG']['BraTS_2020_subject_ID'].values\n",
        "pd_LGG = pd_files_mappings[pd_files_mappings['Grade']=='LGG']['BraTS_2020_subject_ID'].values"
      ],
      "metadata": {
        "id": "auQms5XOq1mO"
      },
      "execution_count": null,
      "outputs": []
    },
    {
      "cell_type": "code",
      "source": [
        "print (len(pd_HGG))\n",
        "print (len(pd_LGG))"
      ],
      "metadata": {
        "id": "X9vtqjilrBh-"
      },
      "execution_count": null,
      "outputs": []
    },
    {
      "cell_type": "markdown",
      "source": [
        "#Create lists of folder paths for all the patients belonging to HGG and LGG class."
      ],
      "metadata": {
        "id": "zBuBETj6r-6d"
      }
    },
    {
      "cell_type": "code",
      "source": [
        "#This function returns a list of all the paths for HGG and LGG class depending \n",
        "#upon the parameter Grade\n",
        "def getListOfFiles(dirName, Grade):\n",
        "    # create a list of file and sub directories \n",
        "    # names in the given directory \n",
        "    listOfFile = os.listdir(dirName)\n",
        "    allFiles = list()\n",
        "    # Iterate over all the entries\n",
        "    for entry in listOfFile:\n",
        "        # Create full path\n",
        "        fullPath = os.path.join(dirName, entry)\n",
        "        if (os.path.isdir(fullPath)) and (Grade==\"HGG\") and (entry in HGG_list):\n",
        "            \n",
        "            allFiles.append(fullPath)\n",
        "                           \n",
        "        \n",
        "        if (os.path.isdir(fullPath)) and (Grade==\"LGG\") and (entry in LGG_list):\n",
        "            #fullPath = os.path.join(dirName, entry)\n",
        "            allFiles.append(fullPath)\n",
        "            \n",
        "                \n",
        "    return allFiles\n"
      ],
      "metadata": {
        "id": "-tfb03RjrD59"
      },
      "execution_count": null,
      "outputs": []
    },
    {
      "cell_type": "code",
      "source": [
        "#call the function getListOfFiles to get the list of LGG and HGG cases' paths\n",
        "BraTS2020_folder = base_path + 'Datasets/BraTS2020\n",
        "HGG_subjects = getListOfFiles(BraTS2020_folder, \"HGG\")\n",
        "LGG_subjects = getListOfFiles(BraTS2020_folder, \"LGG\")"
      ],
      "metadata": {
        "id": "gK5SsqAdsALV"
      },
      "execution_count": null,
      "outputs": []
    },
    {
      "cell_type": "code",
      "source": [
        "print (len(HGG_subjects))\n",
        "print (len(LGG_subjects))"
      ],
      "metadata": {
        "id": "G3SYiZ2rsJZW"
      },
      "execution_count": null,
      "outputs": []
    },
    {
      "cell_type": "markdown",
      "source": [
        "#Read and Save HGG Tumorous Slices"
      ],
      "metadata": {
        "id": "UCBpJOrf9kIf"
      }
    },
    {
      "cell_type": "code",
      "source": [
        "#create array for HGG tumorous slices of T1 sequence\n",
        "HGG_tumorous_slices_t1 = np.zeros((19496, 240, 240), dtype=np.float16)"
      ],
      "metadata": {
        "id": "-RkhdrvQsTAd"
      },
      "execution_count": null,
      "outputs": []
    },
    {
      "cell_type": "code",
      "source": [
        "#Run this code cell to store all the HGG tumorous slices to the array\n",
        "#HGG_tumorous_slices_t1\n",
        "\n",
        "tumorous_counter_t1 = 0\n",
        "\n",
        "subject_counter = 0\n",
        "\n",
        "#array to flag the indices which are tumorous\n",
        "tumorous_indices = np.zeros((155))\n",
        "\n",
        "for subjects in HGG_subjects:\n",
        "    subject_counter += 1\n",
        "    #resetting tumorous indices\n",
        "    for i in range(155):\n",
        "        tumorous_indices[i] = False\n",
        "    \n",
        "    print ('Subject No.:' + str(subject_counter))\n",
        "    \n",
        "    #getting the list of files inside the current subject\n",
        "    listOfFile = os.listdir(subjects)\n",
        "    \n",
        "    #flagging tumorous slices\n",
        "    for item in listOfFile:\n",
        "        if '_seg.nii' in item:\n",
        "\n",
        "            tempPath = os.path.join(subjects, item)\n",
        "            tempFile = nib.load(tempPath)\n",
        "            tempData = tempFile.get_fdata()\n",
        "            \n",
        "            for i in range(155):\n",
        "                currentSlice = tempData[:, :, i]\n",
        "                maxVal = np.amax(currentSlice)\n",
        "                if maxVal > 0:\n",
        "                    tumorous_indices[i] = True\n",
        "                            \n",
        "\n",
        "    #getting t1 slices which are tumorous\n",
        "    for sequence in listOfFile:\n",
        "        if ('_t1.nii' in sequence):\n",
        "            tempPath = os.path.join(subjects, sequence)\n",
        "            tempFile = nib.load(tempPath)\n",
        "            tempData = tempFile.get_fdata()\n",
        "            \n",
        "            #normalize the scan\n",
        "            max_norm = np.amax(tempData)\n",
        "            min_norm = np.amin(tempData)\n",
        "            tempData = tempData/(max_norm - min_norm)\n",
        "            \n",
        "            #extract tumorous slices\n",
        "            for i in range(155):\n",
        "                if tumorous_indices[i]==True:\n",
        "                    \n",
        "                    HGG_tumorous_slices_t1[tumorous_counter_t1, :, :] = tempData[:, :, i]\n",
        "                    tumorous_counter_t1 += 1\n",
        "    \n",
        "  \n"
      ],
      "metadata": {
        "id": "JJJlhi4e7tuI"
      },
      "execution_count": null,
      "outputs": []
    },
    {
      "cell_type": "code",
      "source": [
        "#print the no. of tumorous slices in HGG patients\n",
        "print (tumorous_counter_t1) "
      ],
      "metadata": {
        "id": "53VUs3_V8oqZ"
      },
      "execution_count": null,
      "outputs": []
    },
    {
      "cell_type": "code",
      "source": [
        "#Save all the tumorous slices (the array HGG_tumorous_slices_t1) as .npy file\n",
        "np.save(base_path + 'Datasets/BraTS2020/BraTS2020_Tumorous_HGG_T1_f16.npy', HGG_tumorous_slices_t1)"
      ],
      "metadata": {
        "id": "hxAaBXaT8yGw"
      },
      "execution_count": null,
      "outputs": []
    },
    {
      "cell_type": "markdown",
      "source": [
        "#Read and Save LGG Tumorous Slices"
      ],
      "metadata": {
        "id": "st3CqrcM9oUR"
      }
    },
    {
      "cell_type": "code",
      "source": [
        "#create array for LGG tumorous slices of T1 sequence\n",
        "LGG_tumorous_slices_t1 = np.zeros((4926, 240, 240), dtype=np.float16)"
      ],
      "metadata": {
        "id": "ylNk-3uP9PLr"
      },
      "execution_count": null,
      "outputs": []
    },
    {
      "cell_type": "code",
      "source": [
        "#Run this code cell to store all the HGG tumorous slices to the array\n",
        "#HGG_tumorous_slices_t1\n",
        "\n",
        "tumorous_counter_t1 = 0\n",
        "\n",
        "subject_counter = 0\n",
        "\n",
        "#array to flag the indices which are tumorous\n",
        "tumorous_indices = np.zeros((155))\n",
        "\n",
        "for subjects in LGG_subjects:\n",
        "    subject_counter += 1\n",
        "    #resetting tumorous indices\n",
        "    for i in range(155):\n",
        "        tumorous_indices[i] = False\n",
        "    \n",
        "    print ('Subject No.:' + str(subject_counter))\n",
        "    \n",
        "    #getting the list of files inside the current subject\n",
        "    listOfFile = os.listdir(subjects)\n",
        "    \n",
        "    #flagging tumorous slices\n",
        "    for item in listOfFile:\n",
        "        if '_seg.nii' in item:\n",
        "\n",
        "            tempPath = os.path.join(subjects, item)\n",
        "            tempFile = nib.load(tempPath)\n",
        "            tempData = tempFile.get_fdata()\n",
        "            \n",
        "            for i in range(155):\n",
        "                currentSlice = tempData[:, :, i]\n",
        "                maxVal = np.amax(currentSlice)\n",
        "                if maxVal > 0:\n",
        "                    tumorous_indices[i] = True\n",
        "                            \n",
        "\n",
        "    #getting t1 slices which are tumorous\n",
        "    for sequence in listOfFile:\n",
        "        if ('_t1.nii' in sequence):\n",
        "            tempPath = os.path.join(subjects, sequence)\n",
        "            tempFile = nib.load(tempPath)\n",
        "            tempData = tempFile.get_fdata()\n",
        "            \n",
        "            #normalize the scan\n",
        "            max_norm = np.amax(tempData)\n",
        "            min_norm = np.amin(tempData)\n",
        "            tempData = tempData/(max_norm - min_norm)\n",
        "            \n",
        "            #extract tumorous slices\n",
        "            for i in range(155):\n",
        "                if tumorous_indices[i]==True:\n",
        "                    \n",
        "                    LGG_tumorous_slices_t1[tumorous_counter_t1, :, :] = tempData[:, :, i]\n",
        "                    tumorous_counter_t1 += 1\n",
        "    \n",
        "  \n"
      ],
      "metadata": {
        "id": "KMjdNJpO9PLr"
      },
      "execution_count": null,
      "outputs": []
    },
    {
      "cell_type": "code",
      "source": [
        "#print the no. of tumorous slices in LGG patients\n",
        "print (tumorous_counter_t1) "
      ],
      "metadata": {
        "id": "B20TrD5s9PLr"
      },
      "execution_count": null,
      "outputs": []
    },
    {
      "cell_type": "code",
      "source": [
        "#Save all the tumorous slices (the array LGG_tumorous_slices_t1) as .npy file\n",
        "np.save(base_path + 'Datasets/BraTS2020/BraTS2020_Tumorous_LGG_T1_f16.npy', LGG_tumorous_slices_t1)"
      ],
      "metadata": {
        "id": "LZ352H5p9PLr"
      },
      "execution_count": null,
      "outputs": []
    }
  ]
}
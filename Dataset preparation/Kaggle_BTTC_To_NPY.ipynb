{
  "nbformat": 4,
  "nbformat_minor": 0,
  "metadata": {
    "colab": {
      "name": "GitHub_Kaggle_BTTC_To_NPY.ipynb",
      "provenance": [],
      "collapsed_sections": []
    },
    "kernelspec": {
      "name": "python3",
      "display_name": "Python 3"
    },
    "language_info": {
      "name": "python"
    }
  },
  "cells": [
    {
      "cell_type": "markdown",
      "source": [
        "#General Information about the Dataset\n",
        "There are two folders at the root path (Testing and Training).\n",
        "Inside both these folder are the folders for meningioma, \n",
        "glioma and pitutary. Also, there is a no-tumor class which \n",
        "we will ignore. For further information about the dataset, please click [here](https://www.kaggle.com/datasets/sartajbhuvaji/brain-tumor-classification-mri).\n",
        "\n"
      ],
      "metadata": {
        "id": "OqTnnsVqoECn"
      }
    },
    {
      "cell_type": "code",
      "execution_count": null,
      "metadata": {
        "id": "ZGIXtRB5Dcud"
      },
      "outputs": [],
      "source": [
        "#import the necessary libraries\n",
        "import numpy as np\n",
        "import h5py\n",
        "import os\n",
        "from os import walk\n",
        "import cv2"
      ]
    },
    {
      "cell_type": "code",
      "source": [
        "#Run this cell only if your data resides on Google drive\n",
        "from google.colab import drive\n",
        "drive.mount('/content/gdrive')"
      ],
      "metadata": {
        "colab": {
          "base_uri": "https://localhost:8080/"
        },
        "id": "U-okrVYNDp4S",
        "outputId": "76ce18f7-0d9b-48fa-d67a-c02dd3da4ebe"
      },
      "execution_count": null,
      "outputs": [
        {
          "output_type": "stream",
          "name": "stdout",
          "text": [
            "Mounted at /content/gdrive\n"
          ]
        }
      ]
    },
    {
      "cell_type": "code",
      "source": [
        "#Set base_path to the location where the data and results of your project\n",
        "#reside\n",
        "base_path = '/content/gdrive/MyDrive/HPT/'\n"
      ],
      "metadata": {
        "id": "eNjwuWwdhXhj"
      },
      "execution_count": null,
      "outputs": []
    },
    {
      "cell_type": "markdown",
      "source": [
        "#Read the Images of All the Classes and Save as NPY Files"
      ],
      "metadata": {
        "id": "ounmAmWQ2dhp"
      }
    },
    {
      "cell_type": "markdown",
      "source": [
        "##Read Meningioma Images"
      ],
      "metadata": {
        "id": "2ZYfFS4O2na5"
      }
    },
    {
      "cell_type": "code",
      "source": [
        "#Set the path for meningioma images in both testing and training sets\n",
        "meningioma_test_path = base_path + 'Datasets/Kaggle BTTC/Testing/meningioma_tumor'\n",
        "meningioma_train_path = base_path + 'Datasets/Kaggle BTTC/Training/meningioma_tumor'"
      ],
      "metadata": {
        "id": "Yd5CB6D22P-6"
      },
      "execution_count": null,
      "outputs": []
    },
    {
      "cell_type": "code",
      "source": [
        "#Read the file names in test set\n",
        "for (dirpath, dirnames, filenames_test) in walk(meningioma_test_path):\n",
        "  print (filenames_test)"
      ],
      "metadata": {
        "id": "UAgQELfA3vLa"
      },
      "execution_count": null,
      "outputs": []
    },
    {
      "cell_type": "code",
      "source": [
        "#Get the paths of files in test set\n",
        "meningioma_file_path_test = []\n",
        "for file in filenames_test:\n",
        "  meningioma_file_path_test.append(os.path.join(meningioma_test_path, file))"
      ],
      "metadata": {
        "id": "CLLh0v-D4exQ"
      },
      "execution_count": null,
      "outputs": []
    },
    {
      "cell_type": "code",
      "source": [
        "#Read the file names in train set\n",
        "for (dirpath, dirnames, filenames_train) in walk(meningioma_train_path):\n",
        "  print (filenames_train)"
      ],
      "metadata": {
        "id": "LcMG1u9r4Zaw"
      },
      "execution_count": null,
      "outputs": []
    },
    {
      "cell_type": "code",
      "source": [
        "#Get the paths of files in train set\n",
        "meningioma_file_path_train = []\n",
        "for file in filenames_train:\n",
        "  meningioma_file_path_train.append(os.path.join(meningioma_train_path, file))"
      ],
      "metadata": {
        "id": "usY8mih65AbA"
      },
      "execution_count": null,
      "outputs": []
    },
    {
      "cell_type": "code",
      "source": [
        "##################################################\n",
        "#Populating meningioma array with data in Testing folder\n",
        "##################################################\n",
        "meningioma_no = 937\n",
        "meningioma_counter = 0"
      ],
      "metadata": {
        "id": "DI8lWnki5QyZ"
      },
      "execution_count": null,
      "outputs": []
    },
    {
      "cell_type": "code",
      "source": [
        "meningioma_ar = np.zeros((meningioma_no, 240, 240, 3), dtype=np.float16)"
      ],
      "metadata": {
        "id": "aEoSPvZN509v"
      },
      "execution_count": null,
      "outputs": []
    },
    {
      "cell_type": "code",
      "source": [
        "for file in meningioma_file_path_test:\n",
        "  img = cv2.imread(file)\n",
        "  img = cv2.resize(img, dsize=(240, 240), interpolation=cv2.INTER_CUBIC)\n",
        "  min_val = np.amin(img)\n",
        "  max_val = np.amax(img)\n",
        "  range_val = (max_val - min_val)\n",
        "  img = img/range_val\n",
        "  meningioma_ar[meningioma_counter, :, :, :] = img\n",
        "  meningioma_counter += 1"
      ],
      "metadata": {
        "id": "IlT80mUF56T_"
      },
      "execution_count": null,
      "outputs": []
    },
    {
      "cell_type": "code",
      "source": [
        "print (meningioma_counter)"
      ],
      "metadata": {
        "id": "DeV8UoD16sRH"
      },
      "execution_count": null,
      "outputs": []
    },
    {
      "cell_type": "code",
      "source": [
        "##########################################################\n",
        "#Populating meningioma array with data in Training folder\n",
        "##########################################################"
      ],
      "metadata": {
        "id": "QwfxkMdJ6M8j"
      },
      "execution_count": null,
      "outputs": []
    },
    {
      "cell_type": "code",
      "source": [
        "for file in meningioma_file_path_train:\n",
        "  img = cv2.imread(file)\n",
        "  img = cv2.resize(img, dsize=(240, 240), interpolation=cv2.INTER_CUBIC)\n",
        "  min_val = np.amin(img)\n",
        "  max_val = np.amax(img)\n",
        "  range_val = (max_val - min_val)\n",
        "  img = img/range_val\n",
        "  meningioma_ar[meningioma_counter, :, :, :] = img\n",
        "  meningioma_counter += 1"
      ],
      "metadata": {
        "id": "WH4OfSaI6M8k"
      },
      "execution_count": null,
      "outputs": []
    },
    {
      "cell_type": "code",
      "source": [
        "#Saving Meningioma Training and Testing Images as NPY File\n",
        "np.save(base_path + 'Datasets/Kaggle BTTC/Meningioma.npy', meningioma_ar)"
      ],
      "metadata": {
        "id": "akOlm-vN6lP_"
      },
      "execution_count": null,
      "outputs": []
    },
    {
      "cell_type": "markdown",
      "source": [
        "##Read Glioma Images"
      ],
      "metadata": {
        "id": "iqYNBeo-8hwX"
      }
    },
    {
      "cell_type": "code",
      "source": [
        "#Set the path for glioma images in both testing and training sets\n",
        "glioma_test_path = base_path + 'Datasets/Kaggle BTTC/Testing/glioma_tumor'\n",
        "glioma_train_path = base_path + 'Datasets/Kaggle BTTC/Training/glioma_tumor'"
      ],
      "metadata": {
        "id": "3imv0JSl8hwX"
      },
      "execution_count": null,
      "outputs": []
    },
    {
      "cell_type": "code",
      "source": [
        "#Read the file names in test set\n",
        "for (dirpath, dirnames, filenames_test) in walk(glioma_test_path):\n",
        "  print (filenames_test)"
      ],
      "metadata": {
        "id": "2qrJbpfI8hwY"
      },
      "execution_count": null,
      "outputs": []
    },
    {
      "cell_type": "code",
      "source": [
        "#Get the paths of files in test set\n",
        "glioma_file_path_test = []\n",
        "for file in filenames_test:\n",
        "  glioma_file_path_test.append(os.path.join(glioma_test_path, file))"
      ],
      "metadata": {
        "id": "U2at0m6J8hwZ"
      },
      "execution_count": null,
      "outputs": []
    },
    {
      "cell_type": "code",
      "source": [
        "#Read the file names in train set\n",
        "for (dirpath, dirnames, filenames_train) in walk(glioma_train_path):\n",
        "  print (filenames_train)"
      ],
      "metadata": {
        "id": "6mRMsUh18hwZ"
      },
      "execution_count": null,
      "outputs": []
    },
    {
      "cell_type": "code",
      "source": [
        "#Get the paths of files in train set\n",
        "glioma_file_path_train = []\n",
        "for file in filenames_train:\n",
        "  glioma_file_path_train.append(os.path.join(glioma_train_path, file))"
      ],
      "metadata": {
        "id": "DPxl12ZV8hwa"
      },
      "execution_count": null,
      "outputs": []
    },
    {
      "cell_type": "code",
      "source": [
        "####################################################\n",
        "#Populating glioma array with data in Testing folder\n",
        "####################################################\n",
        "glioma_no = 926\n",
        "glioma_counter = 0"
      ],
      "metadata": {
        "id": "UOFeQMNc8hwb"
      },
      "execution_count": null,
      "outputs": []
    },
    {
      "cell_type": "code",
      "source": [
        "glioma_ar = np.zeros((glioma_no, 240, 240, 3), dtype=np.float16)"
      ],
      "metadata": {
        "id": "qUeYOu4m8hwb"
      },
      "execution_count": null,
      "outputs": []
    },
    {
      "cell_type": "code",
      "source": [
        "for file in glioma_file_path_test:\n",
        "  img = cv2.imread(file)\n",
        "  img = cv2.resize(img, dsize=(240, 240), interpolation=cv2.INTER_CUBIC)\n",
        "  min_val = np.amin(img)\n",
        "  max_val = np.amax(img)\n",
        "  range_val = (max_val - min_val)\n",
        "  img = img/range_val\n",
        "  glioma_ar[glioma_counter, :, :, :] = img\n",
        "  glioma_counter += 1"
      ],
      "metadata": {
        "id": "H4F4Vwxd8hwc"
      },
      "execution_count": null,
      "outputs": []
    },
    {
      "cell_type": "code",
      "source": [
        "print (glioma_counter)"
      ],
      "metadata": {
        "id": "IRXoDww58hwd"
      },
      "execution_count": null,
      "outputs": []
    },
    {
      "cell_type": "code",
      "source": [
        "#####################################################\n",
        "#Populating glioma array with data in Training folder\n",
        "#####################################################"
      ],
      "metadata": {
        "id": "CDYE5an38hwd"
      },
      "execution_count": null,
      "outputs": []
    },
    {
      "cell_type": "code",
      "source": [
        "for file in glioma_file_path_train:\n",
        "  img = cv2.imread(file)\n",
        "  img = cv2.resize(img, dsize=(240, 240), interpolation=cv2.INTER_CUBIC)\n",
        "  min_val = np.amin(img)\n",
        "  max_val = np.amax(img)\n",
        "  range_val = (max_val - min_val)\n",
        "  img = img/range_val\n",
        "  glioma_ar[glioma_counter, :, :, :] = img\n",
        "  glioma_counter += 1"
      ],
      "metadata": {
        "id": "-e7uD8VK8hwe"
      },
      "execution_count": null,
      "outputs": []
    },
    {
      "cell_type": "code",
      "source": [
        "#Saving Glioma Training and Testing Images as NPY File\n",
        "np.save(base_path + 'Datasets/Kaggle BTTC/Glioma.npy', glioma_ar)"
      ],
      "metadata": {
        "id": "B2zxm6oN8hwf"
      },
      "execution_count": null,
      "outputs": []
    },
    {
      "cell_type": "markdown",
      "source": [
        "##Read Pituitary Images"
      ],
      "metadata": {
        "id": "JE9_Lyth99_k"
      }
    },
    {
      "cell_type": "code",
      "source": [
        "#Set the path for pituitary images in both testing and training sets\n",
        "pituitary_test_path = base_path + 'Datasets/Kaggle BTTC/Testing/pituitary_tumor'\n",
        "pituitary_train_path = base_path + 'Datasets/Kaggle BTTC/Training/pituitary_tumor'"
      ],
      "metadata": {
        "id": "9Qx6bjUH99_l"
      },
      "execution_count": null,
      "outputs": []
    },
    {
      "cell_type": "code",
      "source": [
        "#Read the file names in test set\n",
        "for (dirpath, dirnames, filenames_test) in walk(pituitary_test_path):\n",
        "  print (filenames_test)"
      ],
      "metadata": {
        "id": "_WVddqbP99_m"
      },
      "execution_count": null,
      "outputs": []
    },
    {
      "cell_type": "code",
      "source": [
        "#Get the paths of files in test set\n",
        "pituitary_file_path_test = []\n",
        "for file in filenames_test:\n",
        "  pituitary_file_path_test.append(os.path.join(pituitary_test_path, file))"
      ],
      "metadata": {
        "id": "DxIKy1Vh99_m"
      },
      "execution_count": null,
      "outputs": []
    },
    {
      "cell_type": "code",
      "source": [
        "#Read the file names in train set\n",
        "for (dirpath, dirnames, filenames_train) in walk(pituitary_train_path):\n",
        "  print (filenames_train)"
      ],
      "metadata": {
        "id": "crE0w0MH99_n"
      },
      "execution_count": null,
      "outputs": []
    },
    {
      "cell_type": "code",
      "source": [
        "#Get the paths of files in train set\n",
        "pituitary_file_path_train = []\n",
        "for file in filenames_train:\n",
        "  pituitary_file_path_train.append(os.path.join(pituitary_train_path, file))"
      ],
      "metadata": {
        "id": "UEb93SRf99_o"
      },
      "execution_count": null,
      "outputs": []
    },
    {
      "cell_type": "code",
      "source": [
        "##################################################\n",
        "#Populating pituitary array with data in Testing folder\n",
        "##################################################\n",
        "pituitary_no = 901\n",
        "pituitary_counter = 0"
      ],
      "metadata": {
        "id": "bvXukyqf99_p"
      },
      "execution_count": null,
      "outputs": []
    },
    {
      "cell_type": "code",
      "source": [
        "pituitary_ar = np.zeros((pituitary_no, 240, 240, 3), dtype=np.float16)"
      ],
      "metadata": {
        "id": "XNui9uCl99_p"
      },
      "execution_count": null,
      "outputs": []
    },
    {
      "cell_type": "code",
      "source": [
        "for file in pituitary_file_path_test:\n",
        "  img = cv2.imread(file)\n",
        "  img = cv2.resize(img, dsize=(240, 240), interpolation=cv2.INTER_CUBIC)\n",
        "  min_val = np.amin(img)\n",
        "  max_val = np.amax(img)\n",
        "  range_val = (max_val - min_val)\n",
        "  img = img/range_val\n",
        "  pituitary_ar[pituitary_counter, :, :, :] = img\n",
        "  pituitary_counter += 1"
      ],
      "metadata": {
        "id": "ODace0Q599_q"
      },
      "execution_count": null,
      "outputs": []
    },
    {
      "cell_type": "code",
      "source": [
        "print (pituitary_counter)"
      ],
      "metadata": {
        "id": "D5laEcTG99_r"
      },
      "execution_count": null,
      "outputs": []
    },
    {
      "cell_type": "code",
      "source": [
        "##################################################\n",
        "#Populating pituitary array with data in Training folder\n",
        "##################################################"
      ],
      "metadata": {
        "id": "2aTSIdaZ99_r"
      },
      "execution_count": null,
      "outputs": []
    },
    {
      "cell_type": "code",
      "source": [
        "for file in pituitary_file_path_train:\n",
        "  img = cv2.imread(file)\n",
        "  img = cv2.resize(img, dsize=(240, 240), interpolation=cv2.INTER_CUBIC)\n",
        "  min_val = np.amin(img)\n",
        "  max_val = np.amax(img)\n",
        "  range_val = (max_val - min_val)\n",
        "  img = img/range_val\n",
        "  pituitary_ar[pituitary_counter, :, :, :] = img\n",
        "  pituitary_counter += 1"
      ],
      "metadata": {
        "id": "F6br5ptM99_s"
      },
      "execution_count": null,
      "outputs": []
    },
    {
      "cell_type": "code",
      "source": [
        "#Saving Pituitary Training and Testing Images as NPY File\n",
        "np.save(base_path + 'Datasets/Kaggle BTTC/Pituitary.npy', pituitary_ar)"
      ],
      "metadata": {
        "id": "CfV6Vvic99_s"
      },
      "execution_count": null,
      "outputs": []
    }
  ]
}
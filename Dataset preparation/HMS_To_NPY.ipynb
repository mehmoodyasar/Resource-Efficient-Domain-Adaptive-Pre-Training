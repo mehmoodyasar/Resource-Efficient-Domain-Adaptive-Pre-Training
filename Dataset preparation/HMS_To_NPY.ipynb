{
  "nbformat": 4,
  "nbformat_minor": 0,
  "metadata": {
    "colab": {
      "name": "GitHub_HMS_To_NPY.ipynb",
      "provenance": [],
      "collapsed_sections": []
    },
    "kernelspec": {
      "name": "python3",
      "display_name": "Python 3"
    },
    "language_info": {
      "name": "python"
    }
  },
  "cells": [
    {
      "cell_type": "markdown",
      "source": [
        "#General Information\n",
        "The files for each class are stored inside different sub-directories where the root directory belongs to a particular class. The number of cases may be slightly different from the ones we have used in our experiments. But this slight difference is very unlikely to significantly impact the results."
      ],
      "metadata": {
        "id": "LU3302vHA_Of"
      }
    },
    {
      "cell_type": "code",
      "execution_count": null,
      "metadata": {
        "id": "zkSG3QD_A2fr"
      },
      "outputs": [],
      "source": [
        "#import the necessary libraries\n",
        "import numpy as np\n",
        "import h5py\n",
        "import os\n",
        "from os import walk\n",
        "import cv2"
      ]
    },
    {
      "cell_type": "code",
      "source": [
        "#Run this cell only if your data resides on Google drive\n",
        "from google.colab import drive\n",
        "drive.mount('/content/gdrive')"
      ],
      "metadata": {
        "colab": {
          "base_uri": "https://localhost:8080/"
        },
        "id": "U-okrVYNDp4S",
        "outputId": "76ce18f7-0d9b-48fa-d67a-c02dd3da4ebe"
      },
      "execution_count": null,
      "outputs": [
        {
          "output_type": "stream",
          "name": "stdout",
          "text": [
            "Mounted at /content/gdrive\n"
          ]
        }
      ]
    },
    {
      "cell_type": "code",
      "source": [
        "#Set base_path to the location where the data and results of your project\n",
        "#reside\n",
        "base_path = '/content/gdrive/MyDrive/HPT/'"
      ],
      "metadata": {
        "id": "eNjwuWwdhXhj"
      },
      "execution_count": null,
      "outputs": []
    },
    {
      "cell_type": "code",
      "source": [
        "#Getting the paths of root directories for all the classes\n",
        "HMS_Cerebrovescular = base_path + 'Datasets/HMS/Cerebrovascular Diseases (stroke or brain attack)'\n",
        "HMS_Degenerative = base_path + 'Datasets/HMS/Degenerative Diseases'\n",
        "HMS_Inflammatory = base_path + 'Datasets/HMS/Inflammatory or Infectious Diseases'\n",
        "HMS_Neoplastic = base_path + 'Datasets/HMS/Neoplastic Diseases'\n",
        "HMS_Normal = base_path + 'Datasets/HMS/Normal'"
      ],
      "metadata": {
        "id": "1L_UaP31Biyg"
      },
      "execution_count": null,
      "outputs": []
    },
    {
      "cell_type": "markdown",
      "source": [
        "#Get the Paths of All the Files for Each Class"
      ],
      "metadata": {
        "id": "v-nDi8Q2Faiw"
      }
    },
    {
      "cell_type": "code",
      "source": [
        "#This function returns all the files in the directory (and its sub-directories)\n",
        "#path provided as an argument\n",
        "def getListOfFiles(root_path):\n",
        "  filelist = []\n",
        "\n",
        "  for root, dirs, files in os.walk(root_path):\n",
        "    for file in files:\n",
        "          #append the file name to the list\n",
        "      filelist.append(os.path.join(root_path,file))\n",
        "\n",
        "  return filelist"
      ],
      "metadata": {
        "id": "9CWKpk4kEMky"
      },
      "execution_count": null,
      "outputs": []
    },
    {
      "cell_type": "code",
      "source": [
        "#call the function getListOfFiles to get the paths of all the files for each class\n",
        "Cerebrovescular_files = getListOfFiles(HMS_Cerebrovescular)\n",
        "Degenerative_files = getListOfFiles(HMS_Degenerative) \n",
        "Inflammatory_files = getListOfFiles(HMS_Inflammatory) \n",
        "Neoplastic_files = getListOfFiles(HMS_Neoplastic) \n",
        "Normal_files = getListOfFiles(HMS_Normal) "
      ],
      "metadata": {
        "id": "49dv6tINB_5A"
      },
      "execution_count": null,
      "outputs": []
    },
    {
      "cell_type": "markdown",
      "source": [
        "#Read All the Files and Save Them as .npy "
      ],
      "metadata": {
        "id": "z4a0gj0pIUEK"
      }
    },
    {
      "cell_type": "markdown",
      "source": [
        "##Declare arrays for each class"
      ],
      "metadata": {
        "id": "uYCggFgmIZT6"
      }
    },
    {
      "cell_type": "code",
      "source": [
        "#declare arrays for all the classes\n",
        "Cerebrovescular_ar = np.zeros((len(Cerebrovescular_files), 256, 256, 3), dtype=np.float16)\n",
        "Degenerative_ar = np.zeros((len(Degenerative_files), 256, 256, 3), dtype=np.float16)\n",
        "Inflammatory_ar = np.zeros((len(Inflammatory_files), 256, 256, 3), dtype=np.float16)\n",
        "Neoplastic_ar = np.zeros((len(Neoplastic_files), 256, 256, 3), dtype=np.float16)\n",
        "Normal_ar = np.zeros((len(Normal_files), 256, 256, 3), dtype=np.float16)"
      ],
      "metadata": {
        "id": "Nx_cVgT_F0WA"
      },
      "execution_count": null,
      "outputs": []
    },
    {
      "cell_type": "markdown",
      "source": [
        "##Cerebrovescular Class"
      ],
      "metadata": {
        "id": "47GfduCvIdDh"
      }
    },
    {
      "cell_type": "code",
      "source": [
        "Cerebrovescular_counter = 0\n",
        "\n",
        "for file in Cerebrovescular_files:\n",
        "  img = cv2.imread(file)\n",
        "  img = cv2.resize(img, dsize=(256, 256), interpolation=cv2.INTER_CUBIC)\n",
        "  min_val = np.amin(img)\n",
        "  max_val = np.amax(img)\n",
        "  range_val = (max_val - min_val)\n",
        "  img = img/range_val\n",
        "  Cerebrovescular_ar[Cerebrovescular_counter, :, :, :] = img\n",
        "  Cerebrovescular_counter += 1"
      ],
      "metadata": {
        "id": "jKMdSMN8IEtj"
      },
      "execution_count": null,
      "outputs": []
    },
    {
      "cell_type": "code",
      "source": [
        "#Save the populated array as npy\n",
        "np.save(base_path + 'Datasets/HMS/Cerebrovascular.npy', Cerebrovescular_ar)"
      ],
      "metadata": {
        "id": "0NpTltVtJ6FT"
      },
      "execution_count": null,
      "outputs": []
    },
    {
      "cell_type": "markdown",
      "source": [
        "##Degenerative Class"
      ],
      "metadata": {
        "id": "XNovX0xUI4Jw"
      }
    },
    {
      "cell_type": "code",
      "source": [
        "Degenerative_counter = 0\n",
        "\n",
        "for file in Degenerative_files:\n",
        "  img = cv2.imread(file)\n",
        "  img = cv2.resize(img, dsize=(256, 256), interpolation=cv2.INTER_CUBIC)\n",
        "  min_val = np.amin(img)\n",
        "  max_val = np.amax(img)\n",
        "  range_val = (max_val - min_val)\n",
        "  img = img/range_val\n",
        "  Degenerative_ar[Degenerative_counter, :, :, :] = img\n",
        "  Degenerative_counter += 1"
      ],
      "metadata": {
        "id": "D7NKABbOI4Jx"
      },
      "execution_count": null,
      "outputs": []
    },
    {
      "cell_type": "code",
      "source": [
        "#Save the populated array as npy\n",
        "np.save(base_path + 'Datasets/HMS/Degenerative.npy', Degenerative_ar)"
      ],
      "metadata": {
        "id": "vdetYThoKUpg"
      },
      "execution_count": null,
      "outputs": []
    },
    {
      "cell_type": "markdown",
      "source": [
        "##Inflammatory Class"
      ],
      "metadata": {
        "id": "7hL6laSkJFJO"
      }
    },
    {
      "cell_type": "code",
      "source": [
        "Inflammatory_counter = 0\n",
        "\n",
        "for file in Inflammatory_files:\n",
        "  img = cv2.imread(file)\n",
        "  img = cv2.resize(img, dsize=(256, 256), interpolation=cv2.INTER_CUBIC)\n",
        "  min_val = np.amin(img)\n",
        "  max_val = np.amax(img)\n",
        "  range_val = (max_val - min_val)\n",
        "  img = img/range_val\n",
        "  Inflammatory_ar[Inflammatory_counter, :, :, :] = img\n",
        "  Inflammatory_counter += 1"
      ],
      "metadata": {
        "id": "ghNVNFF_JFJP"
      },
      "execution_count": null,
      "outputs": []
    },
    {
      "cell_type": "code",
      "source": [
        "#Save the populated array as npy\n",
        "np.save(base_path + 'Datasets/HMS/Inflammatory.npy', Inflammatory_ar)"
      ],
      "metadata": {
        "id": "WlbbyktRKajv"
      },
      "execution_count": null,
      "outputs": []
    },
    {
      "cell_type": "markdown",
      "source": [
        "##Neoplastic Class"
      ],
      "metadata": {
        "id": "XKO0INK6JVLy"
      }
    },
    {
      "cell_type": "code",
      "source": [
        "Neoplastic_counter = 0\n",
        "\n",
        "for file in Neoplastic_files:\n",
        "  img = cv2.imread(file)\n",
        "  img = cv2.resize(img, dsize=(256, 256), interpolation=cv2.INTER_CUBIC)\n",
        "  min_val = np.amin(img)\n",
        "  max_val = np.amax(img)\n",
        "  range_val = (max_val - min_val)\n",
        "  img = img/range_val\n",
        "  Neoplastic_ar[Neoplastic_counter, :, :, :] = img\n",
        "  Neoplastic_counter += 1"
      ],
      "metadata": {
        "id": "jH6a7VlAJVLz"
      },
      "execution_count": null,
      "outputs": []
    },
    {
      "cell_type": "code",
      "source": [
        "#Save the populated array as npy\n",
        "np.save(base_path + 'Datasets/HMS/Neoplastic.npy', Neoplastic_ar)"
      ],
      "metadata": {
        "id": "hUGsXCe6KhBw"
      },
      "execution_count": null,
      "outputs": []
    },
    {
      "cell_type": "markdown",
      "source": [
        "##Normal Class"
      ],
      "metadata": {
        "id": "HgtKNt8zJmVy"
      }
    },
    {
      "cell_type": "code",
      "source": [
        "Normal_counter = 0\n",
        "\n",
        "for file in Normal_files:\n",
        "  img = cv2.imread(file)\n",
        "  img = cv2.resize(img, dsize=(256, 256), interpolation=cv2.INTER_CUBIC)\n",
        "  min_val = np.amin(img)\n",
        "  max_val = np.amax(img)\n",
        "  range_val = (max_val - min_val)\n",
        "  img = img/range_val\n",
        "  Normal_ar[Normal_counter, :, :, :] = img\n",
        "  Normal_counter += 1"
      ],
      "metadata": {
        "id": "oxUC47-eJmVy"
      },
      "execution_count": null,
      "outputs": []
    },
    {
      "cell_type": "code",
      "source": [
        "#Save the populated array as npy\n",
        "np.save(base_path + 'Datasets/HMS/Normal.npy', Normal_ar)"
      ],
      "metadata": {
        "id": "Lln2h_SaKmvo"
      },
      "execution_count": null,
      "outputs": []
    }
  ]
}
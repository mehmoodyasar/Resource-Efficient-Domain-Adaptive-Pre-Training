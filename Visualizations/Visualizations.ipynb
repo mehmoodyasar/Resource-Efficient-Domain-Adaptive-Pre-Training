{
  "nbformat": 4,
  "nbformat_minor": 0,
  "metadata": {
    "colab": {
      "name": "GitHub_Visualizations.ipynb",
      "provenance": [],
      "collapsed_sections": []
    },
    "kernelspec": {
      "name": "python3",
      "display_name": "Python 3"
    },
    "language_info": {
      "name": "python"
    }
  },
  "cells": [
    {
      "cell_type": "code",
      "execution_count": null,
      "metadata": {
        "id": "XuxCod1ARJ72"
      },
      "outputs": [],
      "source": [
        "#import necessary libraries\n",
        "import numpy as np\n",
        "import matplotlib.pyplot as plt "
      ]
    },
    {
      "cell_type": "code",
      "source": [
        "#Run this cell only if your data resides on Google drive\n",
        "from google.colab import drive\n",
        "drive.mount('/content/gdrive')"
      ],
      "metadata": {
        "id": "knT7JchA4PPB"
      },
      "execution_count": null,
      "outputs": []
    },
    {
      "cell_type": "code",
      "source": [
        "#Set base_path to the location where the data and results of your project\n",
        "#reside\n",
        "base_path = '/content/gdrive/MyDrive/HPT/'"
      ],
      "metadata": {
        "id": "aFRB76dk4akg"
      },
      "execution_count": null,
      "outputs": []
    },
    {
      "cell_type": "code",
      "source": [
        "#create a list of strategies which are used in most of the figures\n",
        "strategies = ['DA', 'DA_L1SB', 'DA_L1SB_PFT', 'DA_L2SB', 'DA_L2SB_PFT', 'ImageNet', 'DA_TF_F1B', 'DA_TF_F2B']"
      ],
      "metadata": {
        "id": "MsFiUmfQXBSR"
      },
      "execution_count": null,
      "outputs": []
    },
    {
      "cell_type": "code",
      "source": [
        "#set the value for x-axis (for epoch no. 0 to 500)\n",
        "x_axis = np.arange(1, 501)"
      ],
      "metadata": {
        "id": "gDJQbXB6e_7n"
      },
      "execution_count": null,
      "outputs": []
    },
    {
      "cell_type": "markdown",
      "source": [
        "#Figure 5. \n",
        "The test set AUC for brain disease classification using HMS dataset for model 1"
      ],
      "metadata": {
        "id": "AmgBrSlHTWxy"
      }
    },
    {
      "cell_type": "code",
      "source": [
        "#load test AUCs for different strategies\n",
        "exp_DA = np.load(base_path + 'Results/DA/HMS/Model 1/TestAUC.npy')\n",
        "exp_DA_L1SB = np.load(base_path + 'Results/DA_L1SB/HMS/Model 1/TestAUC.npy')\n",
        "exp_DA_L1SB_PFT = np.load(base_path + 'Results/DA_L1SB_PFT/HMS/Model 1/TestAUC.npy')\n",
        "exp_DA_L2SB = np.load(base_path + 'Results/DA_L2SB/HMS/Model 1/TestAUC.npy')\n",
        "exp_DA_L2SB_PFT = np.load(base_path + 'Results/DA_L2SB_PFT/HMS/Model 1/TestAUC.npy')\n",
        "exp_ImageNet = np.load(base_path + 'Results/ImageNet/HMS/Model 1/TestAUC.npy')\n",
        "exp_DA_TF_F1B = np.load(base_path + 'Results/DA_TF_F1B/HMS/Model 1/TestAUC.npy')\n",
        "exp_DA_TF_F2B = np.load(base_path + 'Results/DA_TF_F2B/HMS/Model 1/TestAUC.npy')"
      ],
      "metadata": {
        "id": "2y19fIcYSpBJ"
      },
      "execution_count": null,
      "outputs": []
    },
    {
      "cell_type": "code",
      "source": [
        "fig, axe = plt.subplots(dpi=800)\n",
        "\n",
        "axe.plot(x_axis, exp_DA)\n",
        "axe.plot(x_axis, exp_DA_L1SB)\n",
        "axe.plot(x_axis, exp_DA_L1SB_PFT)\n",
        "axe.plot(x_axis, exp_DA_L2SB)\n",
        "axe.plot(x_axis, exp_DA_L2SB_PFT)\n",
        "axe.plot(x_axis, exp_ImageNet)\n",
        "axe.plot(x_axis, exp_DA_TF_F1B)\n",
        "axe.plot(x_axis, exp_DA_TF_F2B)\n",
        "\n",
        "axe.set_xlabel('Epochs')\n",
        "axe.set_yticks([0.5, 0.55, 0.6, 0.65, 0.7, 0.75, 0.8, 0.85, 0.9, 0.95, 1])\n",
        "axe.set_ylabel('Test Set AUC')\n",
        "\n",
        "axe.set_title(\"Brain Disease Classification - Model 1\", fontsize=12, fontweight = \"bold\")\n",
        "\n",
        "plt.legend(strategies, loc = \"lower right\", ncol=2)\n",
        "\n",
        "plt.show()\n",
        "plt.close(fig)"
      ],
      "metadata": {
        "id": "sEbAtEtvUdeU"
      },
      "execution_count": null,
      "outputs": []
    },
    {
      "cell_type": "markdown",
      "source": [
        "#Figure 6. \n",
        "The test set AUC for brain disease classification using HMS dataset for model 2"
      ],
      "metadata": {
        "id": "pwRHKJpxXgpq"
      }
    },
    {
      "cell_type": "code",
      "source": [
        "#load test AUCs for different strategies\n",
        "exp_DA = np.load(base_path + 'Results/DA/HMS/Model 2/TestAUC.npy')\n",
        "exp_DA_L1SB = np.load(base_path + 'Results/DA_L1SB/HMS/Model 2/TestAUC.npy')\n",
        "exp_DA_L1SB_PFT = np.load(base_path + 'Results/DA_L1SB_PFT/HMS/Model 2/TestAUC.npy')\n",
        "exp_DA_L2SB = np.load(base_path + 'Results/DA_L2SB/HMS/Model 2/TestAUC.npy')\n",
        "exp_DA_L2SB_PFT = np.load(base_path + 'Results/DA_L2SB_PFT/HMS/Model 2/TestAUC.npy')\n",
        "exp_ImageNet = np.load(base_path + 'Results/ImageNet/HMS/Model 2/TestAUC.npy')\n",
        "exp_DA_TF_F1B = np.load(base_path + 'Results/DA_TF_F1B/HMS/Model 2/TestAUC.npy')\n",
        "exp_DA_TF_F2B = np.load(base_path + 'Results/DA_TF_F2B/HMS/Model 2/TestAUC.npy')"
      ],
      "metadata": {
        "id": "5jSqhW93Xgpr"
      },
      "execution_count": null,
      "outputs": []
    },
    {
      "cell_type": "code",
      "source": [
        "fig, axe = plt.subplots(dpi=800)\n",
        "\n",
        "axe.plot(x_axis, exp_DA)\n",
        "axe.plot(x_axis, exp_DA_L1SB)\n",
        "axe.plot(x_axis, exp_DA_L1SB_PFT)\n",
        "axe.plot(x_axis, exp_DA_L2SB)\n",
        "axe.plot(x_axis, exp_DA_L2SB_PFT)\n",
        "axe.plot(x_axis, exp_ImageNet)\n",
        "axe.plot(x_axis, exp_DA_TF_F1B)\n",
        "axe.plot(x_axis, exp_DA_TF_F2B)\n",
        "\n",
        "axe.set_xlabel('Epochs')\n",
        "axe.set_yticks([0.5, 0.55, 0.6, 0.65, 0.7, 0.75, 0.8, 0.85, 0.9, 0.95, 1])\n",
        "axe.set_ylabel('Test Set AUC')\n",
        "\n",
        "axe.set_title(\"Brain Disease Classification - Model 2\", fontsize=12, fontweight = \"bold\")\n",
        "\n",
        "plt.legend(strategies, loc = \"lower right\", ncol=2)\n",
        "\n",
        "plt.show()\n",
        "plt.close(fig)"
      ],
      "metadata": {
        "id": "UuDofktkXgpr"
      },
      "execution_count": null,
      "outputs": []
    },
    {
      "cell_type": "markdown",
      "source": [
        "#Figure 7. \n",
        "The test set AUC for brain tumor type classification using CE-MRI dataset for model 1"
      ],
      "metadata": {
        "id": "J6xzb8lnYVYm"
      }
    },
    {
      "cell_type": "code",
      "source": [
        "#load test AUCs for different strategies\n",
        "exp_DA = np.load(base_path + 'Results/DA/CE-MRI/Model 1/TestAUC.npy')\n",
        "exp_DA_L1SB = np.load(base_path + 'Results/DA_L1SB/CE-MRI/Model 1/TestAUC.npy')\n",
        "exp_DA_L1SB_PFT = np.load(base_path + 'Results/DA_L1SB_PFT/CE-MRI/Model 1/TestAUC.npy')\n",
        "exp_DA_L2SB = np.load(base_path + 'Results/DA_L2SB/CE-MRI/Model 1/TestAUC.npy')\n",
        "exp_DA_L2SB_PFT = np.load(base_path + 'Results/DA_L2SB_PFT/CE-MRI/Model 1/TestAUC.npy')\n",
        "exp_ImageNet = np.load(base_path + 'Results/ImageNet/CE-MRI/Model 1/TestAUC.npy')\n",
        "exp_DA_TF_F1B = np.load(base_path + 'Results/DA_TF_F1B/CE-MRI/Model 1/TestAUC.npy')\n",
        "exp_DA_TF_F2B = np.load(base_path + 'Results/DA_TF_F2B/CE-MRI/Model 1/TestAUC.npy')"
      ],
      "metadata": {
        "id": "_NbJEreHYVYn"
      },
      "execution_count": null,
      "outputs": []
    },
    {
      "cell_type": "code",
      "source": [
        "fig, axe = plt.subplots(dpi=800)\n",
        "\n",
        "axe.plot(x_axis, exp_DA)\n",
        "axe.plot(x_axis, exp_DA_L1SB)\n",
        "axe.plot(x_axis, exp_DA_L1SB_PFT)\n",
        "axe.plot(x_axis, exp_DA_L2SB)\n",
        "axe.plot(x_axis, exp_DA_L2SB_PFT)\n",
        "axe.plot(x_axis, exp_ImageNet)\n",
        "axe.plot(x_axis, exp_DA_TF_F1B)\n",
        "axe.plot(x_axis, exp_DA_TF_F2B)\n",
        "\n",
        "axe.set_xlabel('Epochs')\n",
        "axe.set_yticks([0.5, 0.55, 0.6, 0.65, 0.7, 0.75, 0.8, 0.85, 0.9, 0.95, 1])\n",
        "axe.set_ylabel('Test Set AUC')\n",
        "\n",
        "axe.set_title(\"Brain Tumor Type Classification - Model 1\", fontsize=12, fontweight = \"bold\")\n",
        "\n",
        "plt.legend(strategies, loc = \"lower right\", ncol=2)\n",
        "\n",
        "plt.show()\n",
        "plt.close(fig)"
      ],
      "metadata": {
        "id": "CPE0nqz1YVYo"
      },
      "execution_count": null,
      "outputs": []
    },
    {
      "cell_type": "markdown",
      "source": [
        "#Figure 8. \n",
        "The test set AUC for brain tumor type classification using CE-MRI dataset for model 2"
      ],
      "metadata": {
        "id": "VNmeQCYQX6xv"
      }
    },
    {
      "cell_type": "code",
      "source": [
        "#load test AUCs for different strategies\n",
        "exp_DA = np.load(base_path + 'Results/DA/CE-MRI/Model 2/TestAUC.npy')\n",
        "exp_DA_L1SB = np.load(base_path + 'Results/DA_L1SB/CE-MRI/Model 2/TestAUC.npy')\n",
        "exp_DA_L1SB_PFT = np.load(base_path + 'Results/DA_L1SB_PFT/CE-MRI/Model 2/TestAUC.npy')\n",
        "exp_DA_L2SB = np.load(base_path + 'Results/DA_L2SB/CE-MRI/Model 2/TestAUC.npy')\n",
        "exp_DA_L2SB_PFT = np.load(base_path + 'Results/DA_L2SB_PFT/CE-MRI/Model 2/TestAUC.npy')\n",
        "exp_ImageNet = np.load(base_path + 'Results/ImageNet/CE-MRI/Model 2/TestAUC.npy')\n",
        "exp_DA_TF_F1B = np.load(base_path + 'Results/DA_TF_F1B/CE-MRI/Model 2/TestAUC.npy')\n",
        "exp_DA_TF_F2B = np.load(base_path + 'Results/DA_TF_F2B/CE-MRI/Model 2/TestAUC.npy')"
      ],
      "metadata": {
        "id": "ZqoUQCaCX6xv"
      },
      "execution_count": null,
      "outputs": []
    },
    {
      "cell_type": "code",
      "source": [
        "fig, axe = plt.subplots(dpi=800)\n",
        "\n",
        "axe.plot(x_axis, exp_DA)\n",
        "axe.plot(x_axis, exp_DA_L1SB)\n",
        "axe.plot(x_axis, exp_DA_L1SB_PFT)\n",
        "axe.plot(x_axis, exp_DA_L2SB)\n",
        "axe.plot(x_axis, exp_DA_L2SB_PFT)\n",
        "axe.plot(x_axis, exp_ImageNet)\n",
        "axe.plot(x_axis, exp_DA_TF_F1B)\n",
        "axe.plot(x_axis, exp_DA_TF_F2B)\n",
        "\n",
        "axe.set_xlabel('Epochs')\n",
        "axe.set_yticks([0.5, 0.55, 0.6, 0.65, 0.7, 0.75, 0.8, 0.85, 0.9, 0.95, 1])\n",
        "axe.set_ylabel('Test Set AUC')\n",
        "\n",
        "axe.set_title(\"Brain Tumor Type Classification - Model 2\", fontsize=12, fontweight = \"bold\")\n",
        "\n",
        "plt.legend(strategies, loc = \"lower right\", ncol=2)\n",
        "\n",
        "plt.show()\n",
        "plt.close(fig)"
      ],
      "metadata": {
        "id": "IgeXedPSX6xw"
      },
      "execution_count": null,
      "outputs": []
    },
    {
      "cell_type": "markdown",
      "source": [
        "#Figure 9. \n",
        "AUC for brain tumor type classification on the external dataset (Kaggle BTTC) for model 1"
      ],
      "metadata": {
        "id": "MoCsc9FgYwsV"
      }
    },
    {
      "cell_type": "code",
      "source": [
        "#load test AUCs for different strategies\n",
        "exp_DA = np.load(base_path + 'Results/DA/CE-MRI/Robustness/Model 1/TestAUC.npy')\n",
        "exp_DA_L1SB = np.load(base_path + 'Results/DA_L1SB/CE-MRI/Robustness/Model 1/TestAUC.npy')\n",
        "exp_DA_L1SB_PFT = np.load(base_path + 'Results/DA_L1SB_PFT/CE-MRI/Robustness/Model 1/TestAUC.npy')\n",
        "exp_DA_L2SB = np.load(base_path + 'Results/DA_L2SB/CE-MRI/Robustness/Model 1/TestAUC.npy')\n",
        "exp_DA_L2SB_PFT = np.load(base_path + 'Results/DA_L2SB_PFT/CE-MRI/Robustness/Model 1/TestAUC.npy')\n",
        "exp_ImageNet = np.load(base_path + 'Results/ImageNet/CE-MRI/Robustness/Model 1/TestAUC.npy')\n",
        "exp_DA_TF_F1B = np.load(base_path + 'Results/DA_TF_F1B/CE-MRI/Robustness/Model 1/TestAUC.npy')\n",
        "exp_DA_TF_F2B = np.load(base_path + 'Results/DA_TF_F2B/CE-MRI/Robustness/Model 1/TestAUC.npy')"
      ],
      "metadata": {
        "id": "l1T0rbNMYwsW"
      },
      "execution_count": null,
      "outputs": []
    },
    {
      "cell_type": "code",
      "source": [
        "fig, axe = plt.subplots(dpi=800)\n",
        "\n",
        "axe.plot(x_axis, exp_DA)\n",
        "axe.plot(x_axis, exp_DA_L1SB)\n",
        "axe.plot(x_axis, exp_DA_L1SB_PFT)\n",
        "axe.plot(x_axis, exp_DA_L2SB)\n",
        "axe.plot(x_axis, exp_DA_L2SB_PFT)\n",
        "axe.plot(x_axis, exp_ImageNet)\n",
        "axe.plot(x_axis, exp_DA_TF_F1B)\n",
        "axe.plot(x_axis, exp_DA_TF_F2B)\n",
        "\n",
        "axe.set_xlabel('Epochs')\n",
        "axe.set_yticks([0.5, 0.55, 0.6, 0.65, 0.7, 0.75, 0.8, 0.85, 0.9, 0.95, 1])\n",
        "axe.set_ylabel('Test Set AUC')\n",
        "\n",
        "axe.set_title(\"Robustness - Model 1\", fontsize=12, fontweight = \"bold\")\n",
        "\n",
        "plt.legend(strategies, loc = \"lower right\", ncol=2)\n",
        "\n",
        "plt.show()\n",
        "plt.close(fig)"
      ],
      "metadata": {
        "id": "jsE-_qavYwsX"
      },
      "execution_count": null,
      "outputs": []
    },
    {
      "cell_type": "markdown",
      "source": [
        "#Figure 10. \n",
        "AUC for brain tumor type classification on the external dataset (Kaggle BTTC) for model 2"
      ],
      "metadata": {
        "id": "Rvh3i00vZ0E8"
      }
    },
    {
      "cell_type": "code",
      "source": [
        "#load test AUCs for different strategies\n",
        "exp_DA = np.load(base_path + 'Results/DA/CE-MRI/Robustness/Model 2/TestAUC.npy')\n",
        "exp_DA_L1SB = np.load(base_path + 'Results/DA_L1SB/CE-MRI/Robustness/Model 2/TestAUC.npy')\n",
        "exp_DA_L1SB_PFT = np.load(base_path + 'Results/DA_L1SB_PFT/CE-MRI/Robustness/Model 2/TestAUC.npy')\n",
        "exp_DA_L2SB = np.load(base_path + 'Results/DA_L2SB/CE-MRI/Robustness/Model 2/TestAUC.npy')\n",
        "exp_DA_L2SB_PFT = np.load(base_path + 'Results/DA_L2SB_PFT/CE-MRI/Robustness/Model 2/TestAUC.npy')\n",
        "exp_ImageNet = np.load(base_path + 'Results/ImageNet/CE-MRI/Robustness/Model 2/TestAUC.npy')\n",
        "exp_DA_TF_F1B = np.load(base_path + 'Results/DA_TF_F1B/CE-MRI/Robustness/Model 2/TestAUC.npy')\n",
        "exp_DA_TF_F2B = np.load(base_path + 'Results/DA_TF_F2B/CE-MRI/Robustness/Model 2/TestAUC.npy')"
      ],
      "metadata": {
        "id": "nCroUJgUZ0E8"
      },
      "execution_count": null,
      "outputs": []
    },
    {
      "cell_type": "code",
      "source": [
        "fig, axe = plt.subplots(dpi=800)\n",
        "\n",
        "l1 = axe.plot(x_axis, exp_DA)\n",
        "l2 = axe.plot(x_axis, exp_DA_L1SB)\n",
        "l3 = axe.plot(x_axis, exp_DA_L1SB_PFT)\n",
        "l4 = axe.plot(x_axis, exp_DA_L2SB)\n",
        "l5 = axe.plot(x_axis, exp_DA_L2SB_PFT)\n",
        "l6 = axe.plot(x_axis, exp_ImageNet)\n",
        "l7 = axe.plot(x_axis, exp_DA_TF_F1B)\n",
        "l8 = axe.plot(x_axis, exp_DA_TF_F2B)\n",
        "\n",
        "axe.set_xlabel('Epochs')\n",
        "axe.set_yticks([0.5, 0.55, 0.6, 0.65, 0.7, 0.75, 0.8, 0.85, 0.9, 0.95, 1])\n",
        "axe.set_ylabel('Test Set AUC')\n",
        "\n",
        "axe.set_title(\"Robustness - Model 2\", fontsize=12, fontweight = \"bold\")\n",
        "\n",
        "plt.subplots_adjust(bottom=0.24)\n",
        "fig.legend([l1, l2, l3, l4, l5, l6, l7, l8],\n",
        "    labels=strategies, \n",
        "    loc = \"lower right\", \n",
        "    ncol=4)\n",
        "\n",
        "plt.show()\n",
        "plt.close(fig)"
      ],
      "metadata": {
        "id": "XVF4lubwZ0E8"
      },
      "execution_count": null,
      "outputs": []
    },
    {
      "cell_type": "markdown",
      "source": [
        "#Figure 12. \n",
        "The relative performance of strategies on the development and external datasets (labeled as DD and ED respectively on the x-axis) using the grouped box plots for model 1"
      ],
      "metadata": {
        "id": "iBXCtQ2ahkJv"
      }
    },
    {
      "cell_type": "code",
      "source": [
        "#load Test Set AUC for CE-MRI (Model 1)\n",
        "exp_DA = np.load(base_path + 'Results/DA/CE-MRI/Model 1/TestAUC.npy')\n",
        "exp_DA_L1SB = np.load(base_path + 'Results/DA_L1SB/CE-MRI/Model 1/TestAUC.npy')\n",
        "exp_DA_L1SB_PFT = np.load(base_path + 'Results/DA_L1SB_PFT/CE-MRI/Model 1/TestAUC.npy')\n",
        "exp_DA_L2SB = np.load(base_path + 'Results/DA_L2SB/CE-MRI/Model 1/TestAUC.npy')\n",
        "exp_DA_L2SB_PFT = np.load(base_path + 'Results/DA_L2SB_PFT/CE-MRI/Model 1/TestAUC.npy')\n",
        "exp_ImageNet = np.load(base_path + 'Results/ImageNet/CE-MRI/Model 1/TestAUC.npy')\n",
        "exp_DA_TF_F1B = np.load(base_path + 'Results/DA_TF_F1B/CE-MRI/Model 1/TestAUC.npy')\n",
        "exp_DA_TF_F2B = np.load(base_path + 'Results/DA_TF_F2B/CE-MRI/Model 1/TestAUC.npy')"
      ],
      "metadata": {
        "id": "p8QaSVpMiD75"
      },
      "execution_count": null,
      "outputs": []
    },
    {
      "cell_type": "code",
      "source": [
        "#load Test Set AUC for Kaggle (Model 1)\n",
        "exp_DA_Kaggle = np.load(base_path + 'Results/DA/CE-MRI/Robustness/Model 1/TestAUC.npy')\n",
        "exp_DA_L1SB_Kaggle = np.load(base_path + 'Results/DA_L1SB/CE-MRI/Robustness/Model 1/TestAUC.npy')\n",
        "exp_DA_L1SB_PFT_Kaggle = np.load(base_path + 'Results/DA_L1SB_PFT/CE-MRI/Robustness/Model 1/TestAUC.npy')\n",
        "exp_DA_L2SB_Kaggle = np.load(base_path + 'Results/DA_L2SB/CE-MRI/Robustness/Model 1/TestAUC.npy')\n",
        "exp_DA_L2SB_PFT_Kaggle = np.load(base_path + 'Results/DA_L2SB_PFT/CE-MRI/Robustness/Model 1/TestAUC.npy')\n",
        "exp_ImageNet_Kaggle = np.load(base_path + 'Results/ImageNet/CE-MRI/Robustness/Model 1/TestAUC.npy')\n",
        "exp_DA_TF_F1B_Kaggle = np.load(base_path + 'Results/DA_TF_F1B/CE-MRI/Robustness/Model 1/TestAUC.npy')\n",
        "exp_DA_TF_F2B_Kaggle = np.load(base_path + 'Results/DA_TF_F2B/CE-MRI/Robustness/Model 1/TestAUC.npy')"
      ],
      "metadata": {
        "id": "DzhyOLr9iXbo"
      },
      "execution_count": null,
      "outputs": []
    },
    {
      "cell_type": "code",
      "source": [
        "data = {}\n",
        "data['DA'] = {}\n",
        "data['DA_L1SB'] = {}\n",
        "data['DA_L1SB_PFT'] = {}\n",
        "data['DA_L2SB'] = {}\n",
        "data['DA_L2SB_PFT'] = {}\n",
        "data['ImageNet'] = {}\n",
        "data['DA_TF_F1B'] = {}\n",
        "data['DA_TF_F2B'] = {}\n",
        "\n",
        "#data['DA']['Development DS'] = exp_9_4\n",
        "#data['DA']['External DS'] = exp_9_6\n",
        "data['DA']['Development DS'] = exp_DA\n",
        "data['DA']['External DS'] = exp_DA_Kaggle\n",
        "\n",
        "#data['DA_L1SB']['Development DS'] = exp_4_4\n",
        "#data['DA_L1SB']['External DS'] = exp_4_6\n",
        "data['DA_L1SB']['Development DS'] = exp_DA_L1SB\n",
        "data['DA_L1SB']['External DS'] = exp_DA_L1SB_Kaggle\n",
        "\n",
        "#data['DA_L1SB_PFT']['Development DS'] = exp_5_4\n",
        "#data['DA_L1SB_PFT']['External DS'] = exp_5_6\n",
        "data['DA_L1SB_PFT']['Development DS'] = exp_DA_L1SB_PFT\n",
        "data['DA_L1SB_PFT']['External DS'] = exp_DA_L1SB_PFT_Kaggle\n",
        "\n",
        "#data['DA_L2SB']['Development DS'] = exp_7_4\n",
        "#data['DA_L2SB']['External DS'] = exp_7_6\n",
        "data['DA_L2SB']['Development DS'] = exp_DA_L2SB\n",
        "data['DA_L2SB']['External DS'] = exp_DA_L2SB_Kaggle\n",
        "\n",
        "#data['DA_L2SB_PFT']['Development DS'] = exp_8_4\n",
        "#data['DA_L2SB_PFT']['External DS'] = exp_8_6\n",
        "data['DA_L2SB_PFT']['Development DS'] = exp_DA_L2SB_PFT\n",
        "data['DA_L2SB_PFT']['External DS'] = exp_DA_L2SB_PFT_Kaggle\n",
        "\n",
        "#data['ImageNet']['Development DS'] = exp_10_4\n",
        "#data['ImageNet']['External DS'] = exp_10_6\n",
        "data['ImageNet']['Development DS'] = exp_ImageNet\n",
        "data['ImageNet']['External DS'] = exp_ImageNet_Kaggle\n",
        "\n",
        "#data['DA_TF_F1B']['Development DS'] = exp_12_4\n",
        "#data['DA_TF_F1B']['External DS'] = exp_12_6\n",
        "data['DA_TF_F1B']['Development DS'] = exp_DA_TF_F1B\n",
        "data['DA_TF_F1B']['External DS'] = exp_DA_TF_F1B_Kaggle\n",
        "\n",
        "#data['DA_TF_F2B']['Development DS'] = exp_11_4\n",
        "#data['DA_TF_F2B']['External DS'] = exp_11_6\n",
        "data['DA_TF_F2B']['Development DS'] = exp_DA_TF_F2B\n",
        "data['DA_TF_F2B']['External DS'] = exp_DA_TF_F2B_Kaggle\n"
      ],
      "metadata": {
        "id": "2a52CZlahcQY"
      },
      "execution_count": null,
      "outputs": []
    },
    {
      "cell_type": "code",
      "source": [
        "fig, axes = plt.subplots(ncols=8, sharey=True, dpi=800)\n",
        "fig.subplots_adjust(wspace=0)\n",
        "fig.suptitle(\"Performance Dip on External Dataset (Model 1)\", fontsize=12, fontweight=\"bold\", y=0.98)\n",
        "for ax, name in zip(axes, strategies):\n",
        "    ax.boxplot([data[name][item] for item in ['Development DS', 'External DS']], whis=[1, 99])\n",
        "    ax.set(xticklabels=['DD', 'ED'], xlabel=name)\n",
        "    ax.margins(0.1) # Optional\n",
        "    ax.xaxis.label.set_size(6)\n",
        "plt.show()"
      ],
      "metadata": {
        "id": "Ag5eRoxEhfJY"
      },
      "execution_count": null,
      "outputs": []
    },
    {
      "cell_type": "markdown",
      "source": [
        "#Figure 13. \n",
        "The relative performance of strategies on the development and external datasets (labeled as DD and ED respectively on the x-axis) using the grouped box plots for model 2"
      ],
      "metadata": {
        "id": "1Ed4TS37kKl5"
      }
    },
    {
      "cell_type": "code",
      "source": [
        "#load Test Set AUC for CE-MRI (Model 2)\n",
        "exp_DA = np.load(base_path + 'Results/DA/CE-MRI/Model 2/TestAUC.npy')\n",
        "exp_DA_L1SB = np.load(base_path + 'Results/DA_L1SB/CE-MRI/Model 2/TestAUC.npy')\n",
        "exp_DA_L1SB_PFT = np.load(base_path + 'Results/DA_L1SB_PFT/CE-MRI/Model 2/TestAUC.npy')\n",
        "exp_DA_L2SB = np.load(base_path + 'Results/DA_L2SB/CE-MRI/Model 2/TestAUC.npy')\n",
        "exp_DA_L2SB_PFT = np.load(base_path + 'Results/DA_L2SB_PFT/CE-MRI/Model 2/TestAUC.npy')\n",
        "exp_ImageNet = np.load(base_path + 'Results/ImageNet/CE-MRI/Model 2/TestAUC.npy')\n",
        "exp_DA_TF_F1B = np.load(base_path + 'Results/DA_TF_F1B/CE-MRI/Model 2/TestAUC.npy')\n",
        "exp_DA_TF_F2B = np.load(base_path + 'Results/DA_TF_F2B/CE-MRI/Model 2/TestAUC.npy')"
      ],
      "metadata": {
        "id": "nNFDH5oekKl5"
      },
      "execution_count": null,
      "outputs": []
    },
    {
      "cell_type": "code",
      "source": [
        "#load Test Set AUC for Kaggle (Model 2)\n",
        "exp_DA_Kaggle = np.load(base_path + 'Results/DA/CE-MRI/Robustness/Model 2/TestAUC.npy')\n",
        "exp_DA_L1SB_Kaggle = np.load(base_path + 'Results/DA_L1SB/CE-MRI/Robustness/Model 2/TestAUC.npy')\n",
        "exp_DA_L1SB_PFT_Kaggle = np.load(base_path + 'Results/DA_L1SB_PFT/CE-MRI/Robustness/Model 2/TestAUC.npy')\n",
        "exp_DA_L2SB_Kaggle = np.load(base_path + 'Results/DA_L2SB/CE-MRI/Robustness/Model 2/TestAUC.npy')\n",
        "exp_DA_L2SB_PFT_Kaggle = np.load(base_path + 'Results/DA_L2SB_PFT/CE-MRI/Robustness/Model 2/TestAUC.npy')\n",
        "exp_ImageNet_Kaggle = np.load(base_path + 'Results/ImageNet/CE-MRI/Robustness/Model 2/TestAUC.npy')\n",
        "exp_DA_TF_F1B_Kaggle = np.load(base_path + 'Results/DA_TF_F1B/CE-MRI/Robustness/Model 2/TestAUC.npy')\n",
        "exp_DA_TF_F2B_Kaggle = np.load(base_path + 'Results/DA_TF_F2B/CE-MRI/Robustness/Model 2/TestAUC.npy')"
      ],
      "metadata": {
        "id": "WT8XRGA4kKl5"
      },
      "execution_count": null,
      "outputs": []
    },
    {
      "cell_type": "code",
      "source": [
        "data = {}\n",
        "data['DA'] = {}\n",
        "data['DA_L1SB'] = {}\n",
        "data['DA_L1SB_PFT'] = {}\n",
        "data['DA_L2SB'] = {}\n",
        "data['DA_L2SB_PFT'] = {}\n",
        "data['ImageNet'] = {}\n",
        "data['DA_TF_F1B'] = {}\n",
        "data['DA_TF_F2B'] = {}\n",
        "\n",
        "#data['DA']['Development DS'] = exp_9_4\n",
        "#data['DA']['External DS'] = exp_9_6\n",
        "data['DA']['Development DS'] = exp_DA\n",
        "data['DA']['External DS'] = exp_DA_Kaggle\n",
        "\n",
        "#data['DA_L1SB']['Development DS'] = exp_4_4\n",
        "#data['DA_L1SB']['External DS'] = exp_4_6\n",
        "data['DA_L1SB']['Development DS'] = exp_DA_L1SB\n",
        "data['DA_L1SB']['External DS'] = exp_DA_L1SB_Kaggle\n",
        "\n",
        "#data['DA_L1SB_PFT']['Development DS'] = exp_5_4\n",
        "#data['DA_L1SB_PFT']['External DS'] = exp_5_6\n",
        "data['DA_L1SB_PFT']['Development DS'] = exp_DA_L1SB_PFT\n",
        "data['DA_L1SB_PFT']['External DS'] = exp_DA_L1SB_PFT_Kaggle\n",
        "\n",
        "#data['DA_L2SB']['Development DS'] = exp_7_4\n",
        "#data['DA_L2SB']['External DS'] = exp_7_6\n",
        "data['DA_L2SB']['Development DS'] = exp_DA_L2SB\n",
        "data['DA_L2SB']['External DS'] = exp_DA_L2SB_Kaggle\n",
        "\n",
        "#data['DA_L2SB_PFT']['Development DS'] = exp_8_4\n",
        "#data['DA_L2SB_PFT']['External DS'] = exp_8_6\n",
        "data['DA_L2SB_PFT']['Development DS'] = exp_DA_L2SB_PFT\n",
        "data['DA_L2SB_PFT']['External DS'] = exp_DA_L2SB_PFT_Kaggle\n",
        "\n",
        "#data['ImageNet']['Development DS'] = exp_10_4\n",
        "#data['ImageNet']['External DS'] = exp_10_6\n",
        "data['ImageNet']['Development DS'] = exp_ImageNet\n",
        "data['ImageNet']['External DS'] = exp_ImageNet_Kaggle\n",
        "\n",
        "#data['DA_TF_F1B']['Development DS'] = exp_12_4\n",
        "#data['DA_TF_F1B']['External DS'] = exp_12_6\n",
        "data['DA_TF_F1B']['Development DS'] = exp_DA_TF_F1B\n",
        "data['DA_TF_F1B']['External DS'] = exp_DA_TF_F1B_Kaggle\n",
        "\n",
        "#data['DA_TF_F2B']['Development DS'] = exp_11_4\n",
        "#data['DA_TF_F2B']['External DS'] = exp_11_6\n",
        "data['DA_TF_F2B']['Development DS'] = exp_DA_TF_F2B\n",
        "data['DA_TF_F2B']['External DS'] = exp_DA_TF_F2B_Kaggle\n"
      ],
      "metadata": {
        "id": "l4banzU3kKl5"
      },
      "execution_count": null,
      "outputs": []
    },
    {
      "cell_type": "code",
      "source": [
        "fig, axes = plt.subplots(ncols=8, sharey=True, dpi=800)\n",
        "fig.subplots_adjust(wspace=0)\n",
        "fig.suptitle(\"Performance Dip on External Dataset (Model 2)\", fontsize=12, fontweight=\"bold\", y=0.98)\n",
        "for ax, name in zip(axes, strategies):\n",
        "    ax.boxplot([data[name][item] for item in ['Development DS', 'External DS']], whis=[1, 99])\n",
        "    ax.set(xticklabels=['DD', 'ED'], xlabel=name)\n",
        "    ax.margins(0.1) # Optional\n",
        "    ax.xaxis.label.set_size(6)\n",
        "plt.show()"
      ],
      "metadata": {
        "id": "PsvF3iAzkKl6"
      },
      "execution_count": null,
      "outputs": []
    },
    {
      "cell_type": "markdown",
      "source": [
        "#Figure 14.\n",
        "Performance comparison of the simplified architecture based on the first one block of ResNet50 (DA_TF_F1B versus ImageNet_TF_F1B)"
      ],
      "metadata": {
        "id": "uwQqesrBkj4g"
      }
    },
    {
      "cell_type": "code",
      "source": [
        "#load DA_TF_F1B results for CE-MRI (model 1, 2)\n",
        "exp_DA_TF_F1B_1 = np.load(base_path + 'Results/DA_TF_F1B/CE-MRI/Model 1/TestAUC.npy')\n",
        "exp_DA_TF_F1B_2 = np.load(base_path + 'Results/DA_TF_F1B/CE-MRI/Model 2/TestAUC.npy')\n",
        "\n",
        "#load ImageNet_TF_F1B results for CE-MRI (model 1, 2)\n",
        "exp_ImageNet_TF_F1B_1 = np.load(base_path + 'Results/ImageNet_TF_F1B/CE-MRI/Model 1/TestAUC.npy')\n",
        "exp_ImageNet_TF_F1B_2 = np.load(base_path + 'Results/ImageNet_TF_F1B/CE-MRI/Model 2/TestAUC.npy')\n",
        "\n",
        "#load DA_TF_F1B results for Kaggle BTTC (model 1, 2)\n",
        "exp_DA_TF_F1B_Kaggle_1 = np.load(base_path + 'Results/DA_TF_F1B/CE-MRI/Robustness/Model 1/TestAUC.npy')\n",
        "exp_DA_TF_F1B_Kaggle_2 = np.load(base_path + 'Results/DA_TF_F1B/CE-MRI/Robustness/Model 2/TestAUC.npy')\n",
        "\n",
        "#load ImageNet_TF_F1B results for Kaggle BTTC (model 1, 2)\n",
        "exp_ImageNet_TF_F1B_Kaggle_1 = np.load(base_path + 'Results/ImageNet_TF_F1B/CE-MRI/Robustness/Model 1/TestAUC.npy')\n",
        "exp_ImageNet_TF_F1B_Kaggle_2 = np.load(base_path + 'Results/ImageNet_TF_F1B/CE-MRI/Robustness/Model 2/TestAUC.npy')"
      ],
      "metadata": {
        "id": "sWgyZ-0Ek2OC"
      },
      "execution_count": null,
      "outputs": []
    },
    {
      "cell_type": "code",
      "source": [
        "#simplified architectures DA vs ImageNet\n",
        "fig, axs = plt.subplots(ncols=2, nrows=2, figsize=(5.5, 3.5), constrained_layout=True,\n",
        "                        dpi=800)\n",
        "# add an artist, in this case a nice label in the middle...\n",
        "#l1=axs[0, 0].plot(x_axis, exp_12_1_1)\n",
        "#l2=axs[0, 0].plot(x_axis, exp_12_2_1)\n",
        "l1=axs[0, 0].plot(x_axis, exp_DA_TF_F1B_1)\n",
        "l2=axs[0, 0].plot(x_axis, exp_ImageNet_TF_F1B_1)\n",
        "\n",
        "axs[0, 0].set_xlabel('Epochs')\n",
        "axs[0, 0].set_yticks([0.5, 0.6, 0.7, 0.8, 0.9, 1])\n",
        "axs[0, 0].set_ylabel('Test Set AUC')\n",
        "axs[0, 0].set_title(\"a) Brain Tumor Type Classification - Model 1\", fontsize=6)#, fontsize=12, fontweight = \"bold\")\n",
        "axs[0, 0].xaxis.label.set_size(4)\n",
        "axs[0, 0].yaxis.label.set_size(4)\n",
        "axs[0, 0].tick_params(axis='x', labelsize=4)\n",
        "axs[0, 0].tick_params(axis='y', labelsize=4)\n",
        "\n",
        "#l3=axs[0, 1].plot(x_axis, exp_12_1_1_ro)\n",
        "#l4=axs[0, 1].plot(x_axis, exp_12_2_1_ro)\n",
        "l3=axs[0, 1].plot(x_axis, exp_DA_TF_F1B_Kaggle_1)\n",
        "l4=axs[0, 1].plot(x_axis, exp_ImageNet_TF_F1B_Kaggle_1)\n",
        "\n",
        "axs[0, 1].set_xlabel('Epochs')\n",
        "axs[0, 1].set_yticks([0.5, 0.6, 0.7, 0.8, 0.9, 1])\n",
        "axs[0, 1].set_ylabel('Test Set AUC')\n",
        "axs[0, 1].set_title(\"b) Robustness - Model 1\", fontsize=6)#, fontsize=12, fontweight = \"bold\")\n",
        "\n",
        "axs[0, 1].xaxis.label.set_size(4)\n",
        "axs[0, 1].yaxis.label.set_size(4)\n",
        "axs[0, 1].tick_params(axis='x', labelsize=4)\n",
        "axs[0, 1].tick_params(axis='y', labelsize=4)\n",
        "\n",
        "#l5=axs[1, 0].plot(x_axis, exp_12_1_2)\n",
        "#l6=axs[1, 0].plot(x_axis, exp_12_2_2)\n",
        "l5=axs[1, 0].plot(x_axis, exp_DA_TF_F1B_2)\n",
        "l6=axs[1, 0].plot(x_axis, exp_ImageNet_TF_F1B_2)\n",
        "\n",
        "axs[1, 0].set_xlabel('Epochs')\n",
        "axs[1, 0].set_yticks([0.5, 0.6, 0.7, 0.8, 0.9, 1])\n",
        "axs[1, 0].set_ylabel('Test Set AUC')\n",
        "axs[1, 0].set_title(\"c) Brain Tumor Type Classification - Model 2\", fontsize=6)#, fontsize=12, fontweight = \"bold\")\n",
        "axs[1, 0].xaxis.label.set_size(6)\n",
        "\n",
        "axs[1, 0].xaxis.label.set_size(4)\n",
        "axs[1, 0].yaxis.label.set_size(4)\n",
        "axs[1, 0].tick_params(axis='x', labelsize=4)\n",
        "axs[1, 0].tick_params(axis='y', labelsize=4)\n",
        "\n",
        "#l7=axs[1, 1].plot(x_axis, exp_12_1_2_ro)\n",
        "#l8=axs[1, 1].plot(x_axis, exp_12_2_2_ro)\n",
        "l7=axs[1, 1].plot(x_axis, exp_DA_TF_F1B_Kaggle_2)\n",
        "l8=axs[1, 1].plot(x_axis, exp_ImageNet_TF_F1B_Kaggle_2)\n",
        "\n",
        "axs[1, 1].set_xlabel('Epochs')\n",
        "axs[1, 1].set_yticks([0.5, 0.6, 0.7, 0.8, 0.9, 1])\n",
        "axs[1, 1].set_ylabel('Test Set AUC')\n",
        "axs[1, 1].set_title(\"d) Robustness - Model 2\", fontsize=6)#, fontsize=12, fontweight = \"bold\")\n",
        "axs[1, 1].xaxis.label.set_size(6)\n",
        "\n",
        "axs[1, 1].xaxis.label.set_size(4)\n",
        "axs[1, 1].yaxis.label.set_size(4)\n",
        "axs[1, 1].tick_params(axis='x', labelsize=4)\n",
        "axs[1, 1].tick_params(axis='y', labelsize=4)\n",
        "\n",
        "#plt.legend(strategies, loc = \"right center\", ncol=1)\n",
        "\n",
        "plt.subplots_adjust(bottom=0.15,\n",
        "                    wspace=0.2, \n",
        "                    hspace=0.4)\n",
        "#for row in range(2):\n",
        "#    for col in range(2):\n",
        "#        axs[row, col].annotate(f'axs[{row}, {col}]', (0.5, 0.5),\n",
        "#                               transform=axs[row, col].transAxes,\n",
        "#                               ha='center', va='center', fontsize=18,\n",
        "#                               color='darkgrey')\n",
        "fig.suptitle('DA_TF_F1B vs ImageNet_TF_F1B', fontweight=\"bold\")\n",
        "fig.legend([l1, l2, l3, l4, l5, l6, l7, l8], \n",
        "            #l_9, l_10, l_11, l_12, l_3, l_14, l_5, l_16],     # The line objects\n",
        "           labels=['DA_TF_F1B', 'ImageNet_TF_F1B'],   # The labels for each line\n",
        "           loc=\"lower center\",   # Position of legend\n",
        "           #borderaxespad=0.1,    # Small spacing around legend box\n",
        "           #title=\"Legend Title\"  # Title for the legend\n",
        "           ncol=8,\n",
        "           fontsize=8 \n",
        "           #title = \"Legends\",\n",
        "           #bbox_to_anchor=(0.5, 0.93)\n",
        "           )\n",
        "plt.show()"
      ],
      "metadata": {
        "id": "nlsAy9LokjAx"
      },
      "execution_count": null,
      "outputs": []
    },
    {
      "cell_type": "markdown",
      "source": [
        "#Figure 15.\n",
        "Performance comparison of the simplified architecture based on the first one block of ResNet50 (DA_TF_F2B versus ImageNet_TF_F2B)"
      ],
      "metadata": {
        "id": "xrFlOpY_ndcr"
      }
    },
    {
      "cell_type": "code",
      "source": [
        "#load DA_TF_F2B results for CE-MRI (model 1, 2)\n",
        "exp_DA_TF_F2B_1 = np.load(base_path + 'Results/DA_TF_F2B/CE-MRI/Model 1/TestAUC.npy')\n",
        "exp_DA_TF_F2B_2 = np.load(base_path + 'Results/DA_TF_F2B/CE-MRI/Model 2/TestAUC.npy')\n",
        "\n",
        "#load ImageNet_TF_F2B results for CE-MRI (model 1, 2)\n",
        "exp_ImageNet_TF_F2B_1 = np.load(base_path + 'Results/ImageNet_TF_F2B/CE-MRI/Model 1/TestAUC.npy')\n",
        "exp_ImageNet_TF_F2B_2 = np.load(base_path + 'Results/ImageNet_TF_F2B/CE-MRI/Model 2/TestAUC.npy')\n",
        "\n",
        "#load DA_TF_F2B results for Kaggle BTTC (model 1, 2)\n",
        "exp_DA_TF_F2B_Kaggle_1 = np.load(base_path + 'Results/DA_TF_F2B/CE-MRI/Robustness/Model 1/TestAUC.npy')\n",
        "exp_DA_TF_F2B_Kaggle_2 = np.load(base_path + 'Results/DA_TF_F2B/CE-MRI/Robustness/Model 2/TestAUC.npy')\n",
        "\n",
        "#load ImageNet_TF_F2B results for Kaggle BTTC (model 1, 2)\n",
        "exp_ImageNet_TF_F2B_Kaggle_1 = np.load(base_path + 'Results/ImageNet_TF_F2B/CE-MRI/Robustness/Model 1/TestAUC.npy')\n",
        "exp_ImageNet_TF_F2B_Kaggle_2 = np.load(base_path + 'Results/ImageNet_TF_F2B/CE-MRI/Robustness/Model 2/TestAUC.npy')"
      ],
      "metadata": {
        "id": "KdqGbG0andcr"
      },
      "execution_count": null,
      "outputs": []
    },
    {
      "cell_type": "code",
      "source": [
        "#simplified architectures DA vs ImageNet\n",
        "fig, axs = plt.subplots(ncols=2, nrows=2, figsize=(5.5, 3.5), constrained_layout=True,\n",
        "                        dpi=800)\n",
        "# add an artist, in this case a nice label in the middle...\n",
        "#l1=axs[0, 0].plot(x_axis, exp_12_1_1)\n",
        "#l2=axs[0, 0].plot(x_axis, exp_12_2_1)\n",
        "l1=axs[0, 0].plot(x_axis, exp_DA_TF_F2B_1)\n",
        "l2=axs[0, 0].plot(x_axis, exp_ImageNet_TF_F2B_1)\n",
        "\n",
        "axs[0, 0].set_xlabel('Epochs')\n",
        "axs[0, 0].set_yticks([0.5, 0.6, 0.7, 0.8, 0.9, 1])\n",
        "axs[0, 0].set_ylabel('Test Set AUC')\n",
        "axs[0, 0].set_title(\"a) Brain Tumor Type Classification - Model 1\", fontsize=6)#, fontsize=12, fontweight = \"bold\")\n",
        "axs[0, 0].xaxis.label.set_size(4)\n",
        "axs[0, 0].yaxis.label.set_size(4)\n",
        "axs[0, 0].tick_params(axis='x', labelsize=4)\n",
        "axs[0, 0].tick_params(axis='y', labelsize=4)\n",
        "\n",
        "#l3=axs[0, 1].plot(x_axis, exp_12_1_1_ro)\n",
        "#l4=axs[0, 1].plot(x_axis, exp_12_2_1_ro)\n",
        "l3=axs[0, 1].plot(x_axis, exp_DA_TF_F2B_Kaggle_1)\n",
        "l4=axs[0, 1].plot(x_axis, exp_ImageNet_TF_F2B_Kaggle_1)\n",
        "\n",
        "axs[0, 1].set_xlabel('Epochs')\n",
        "axs[0, 1].set_yticks([0.5, 0.6, 0.7, 0.8, 0.9, 1])\n",
        "axs[0, 1].set_ylabel('Test Set AUC')\n",
        "axs[0, 1].set_title(\"b) Robustness - Model 1\", fontsize=6)#, fontsize=12, fontweight = \"bold\")\n",
        "\n",
        "axs[0, 1].xaxis.label.set_size(4)\n",
        "axs[0, 1].yaxis.label.set_size(4)\n",
        "axs[0, 1].tick_params(axis='x', labelsize=4)\n",
        "axs[0, 1].tick_params(axis='y', labelsize=4)\n",
        "\n",
        "#l5=axs[1, 0].plot(x_axis, exp_12_1_2)\n",
        "#l6=axs[1, 0].plot(x_axis, exp_12_2_2)\n",
        "l5=axs[1, 0].plot(x_axis, exp_DA_TF_F2B_2)\n",
        "l6=axs[1, 0].plot(x_axis, exp_ImageNet_TF_F2B_2)\n",
        "\n",
        "axs[1, 0].set_xlabel('Epochs')\n",
        "axs[1, 0].set_yticks([0.5, 0.6, 0.7, 0.8, 0.9, 1])\n",
        "axs[1, 0].set_ylabel('Test Set AUC')\n",
        "axs[1, 0].set_title(\"c) Brain Tumor Type Classification - Model 2\", fontsize=6)#, fontsize=12, fontweight = \"bold\")\n",
        "axs[1, 0].xaxis.label.set_size(6)\n",
        "\n",
        "axs[1, 0].xaxis.label.set_size(4)\n",
        "axs[1, 0].yaxis.label.set_size(4)\n",
        "axs[1, 0].tick_params(axis='x', labelsize=4)\n",
        "axs[1, 0].tick_params(axis='y', labelsize=4)\n",
        "\n",
        "#l7=axs[1, 1].plot(x_axis, exp_12_1_2_ro)\n",
        "#l8=axs[1, 1].plot(x_axis, exp_12_2_2_ro)\n",
        "l7=axs[1, 1].plot(x_axis, exp_DA_TF_F2B_Kaggle_2)\n",
        "l8=axs[1, 1].plot(x_axis, exp_ImageNet_TF_F2B_Kaggle_2)\n",
        "\n",
        "axs[1, 1].set_xlabel('Epochs')\n",
        "axs[1, 1].set_yticks([0.5, 0.6, 0.7, 0.8, 0.9, 1])\n",
        "axs[1, 1].set_ylabel('Test Set AUC')\n",
        "axs[1, 1].set_title(\"d) Robustness - Model 2\", fontsize=6)#, fontsize=12, fontweight = \"bold\")\n",
        "axs[1, 1].xaxis.label.set_size(6)\n",
        "\n",
        "axs[1, 1].xaxis.label.set_size(4)\n",
        "axs[1, 1].yaxis.label.set_size(4)\n",
        "axs[1, 1].tick_params(axis='x', labelsize=4)\n",
        "axs[1, 1].tick_params(axis='y', labelsize=4)\n",
        "\n",
        "#plt.legend(strategies, loc = \"right center\", ncol=1)\n",
        "\n",
        "plt.subplots_adjust(bottom=0.15,\n",
        "                    wspace=0.2, \n",
        "                    hspace=0.4)\n",
        "\n",
        "fig.suptitle('DA_TF_F2B vs ImageNet_TF_F2B', fontweight=\"bold\")\n",
        "fig.legend([l1, l2, l3, l4, l5, l6, l7, l8], \n",
        "            #l_9, l_10, l_11, l_12, l_3, l_14, l_5, l_16],     # The line objects\n",
        "           labels=['DA_TF_F2B', 'ImageNet_TF_F2B'],   # The labels for each line\n",
        "           loc=\"lower center\",   # Position of legend\n",
        "           #borderaxespad=0.1,    # Small spacing around legend box\n",
        "           #title=\"Legend Title\"  # Title for the legend\n",
        "           ncol=8,\n",
        "           fontsize=8 \n",
        "           #title = \"Legends\",\n",
        "           #bbox_to_anchor=(0.5, 0.93)\n",
        "           )\n",
        "plt.show()"
      ],
      "metadata": {
        "id": "110trl_undcs"
      },
      "execution_count": null,
      "outputs": []
    },
    {
      "cell_type": "markdown",
      "source": [
        "#Figure 16.\n",
        "Performance comparison of ImageNet pre-trained architectures using complete ResNet50 vs. its first one block and first two blocks (ImageNet versus ImageNet_TF_F2B versus ImageNet_TF_F1B) on development and external datasets"
      ],
      "metadata": {
        "id": "oRFTDQESoK7z"
      }
    },
    {
      "cell_type": "code",
      "source": [
        "#Loading ImageNet, ImageNet_TF_F1B and ImageNet_TF_F2B results for CE-MRI (for model 1)\n",
        "exp_ImageNet_1 = np.load(base_path + 'Results/ImageNet/CE-MRI/Model 1/TestAUC.npy')\n",
        "exp_ImageNet_TF_F1B_1 = np.load(base_path + 'Results/ImageNet_TF_F1B/CE-MRI/Model 1/TestAUC.npy')\n",
        "exp_ImageNet_TF_F2B_1 = np.load(base_path + 'Results/ImageNet_TF_F2B/CE-MRI/Model 1/TestAUC.npy')\n",
        "\n",
        "#Loading ImageNet, ImageNet_TF_F1B and ImageNet_TF_F2B results for CE-MRI (for model 2)\n",
        "exp_ImageNet_2 = np.load(base_path + 'Results/ImageNet/CE-MRI/Model 2/TestAUC.npy')\n",
        "exp_ImageNet_TF_F1B_2 = np.load(base_path + 'Results/ImageNet_TF_F1B/CE-MRI/Model 2/TestAUC.npy')\n",
        "exp_ImageNet_TF_F2B_2 = np.load(base_path + 'Results/ImageNet_TF_F2B/CE-MRI/Model 2/TestAUC.npy')\n",
        "\n",
        "#Loading ImageNet, ImageNet_TF_F1B and ImageNet_TF_F2B results for Kaggle BTTC (for model 1)\n",
        "exp_ImageNet_Kaggle_1 = np.load(base_path + 'Results/ImageNet/CE-MRI/Robustness/Model 1/TestAUC.npy')\n",
        "exp_ImageNet_TF_F1B_Kaggle_1 = np.load(base_path + 'Results/ImageNet_TF_F1B/CE-MRI/Robustness/Model 1/TestAUC.npy')\n",
        "exp_ImageNet_TF_F2B_Kaggle_1 = np.load(base_path + 'Results/ImageNet_TF_F2B/CE-MRI/Robustness/Model 1/TestAUC.npy')\n",
        "\n",
        "#Loading ImageNet, ImageNet_TF_F1B and ImageNet_TF_F2B results for Kaggle BTTC (for model 2)\n",
        "exp_ImageNet_Kaggle_2 = np.load(base_path + 'Results/ImageNet/CE-MRI/Robustness/Model 2/TestAUC.npy')\n",
        "exp_ImageNet_TF_F1B_Kaggle_2 = np.load(base_path + 'Results/ImageNet_TF_F1B/CE-MRI/Robustness/Model 2/TestAUC.npy')\n",
        "exp_ImageNet_TF_F2B_Kaggle_2 = np.load(base_path + 'Results/ImageNet_TF_F2B/CE-MRI/Robustness/Model 2/TestAUC.npy')"
      ],
      "metadata": {
        "id": "k91mTUfLob2H"
      },
      "execution_count": null,
      "outputs": []
    },
    {
      "cell_type": "code",
      "source": [
        "#simplified architectures DA vs ImageNet\n",
        "fig, axs = plt.subplots(ncols=2, nrows=2, figsize=(5.5, 3.5), constrained_layout=True,\n",
        "                        dpi=800)\n",
        "# add an artist, in this case a nice label in the middle...\n",
        "#l1=axs[0, 0].plot(x_axis, exp_12_1_1)\n",
        "#l2=axs[0, 0].plot(x_axis, exp_12_2_1)\n",
        "l0=axs[0, 0].plot(x_axis, exp_ImageNet_1)\n",
        "l1=axs[0, 0].plot(x_axis, exp_ImageNet_TF_F1B_1)\n",
        "l2=axs[0, 0].plot(x_axis, exp_ImageNet_TF_F2B_1)\n",
        "\n",
        "axs[0, 0].set_xlabel('Epochs')\n",
        "axs[0, 0].set_yticks([0.5, 0.6, 0.7, 0.8, 0.9, 1])\n",
        "axs[0, 0].set_ylabel('Test Set AUC')\n",
        "axs[0, 0].set_title(\"a) Brain Tumor Type Classification - Model 1\", fontsize=6)#, fontsize=12, fontweight = \"bold\")\n",
        "axs[0, 0].xaxis.label.set_size(4)\n",
        "axs[0, 0].yaxis.label.set_size(4)\n",
        "axs[0, 0].tick_params(axis='x', labelsize=4)\n",
        "axs[0, 0].tick_params(axis='y', labelsize=4)\n",
        "\n",
        "#l3=axs[0, 1].plot(x_axis, exp_12_1_1_ro)\n",
        "#l4=axs[0, 1].plot(x_axis, exp_12_2_1_ro)\n",
        "l3=axs[0, 1].plot(x_axis, exp_ImageNet_Kaggle_1)\n",
        "l4=axs[0, 1].plot(x_axis, exp_ImageNet_TF_F1B_Kaggle_1)\n",
        "l5=axs[0, 1].plot(x_axis, exp_ImageNet_TF_F2B_Kaggle_1)\n",
        "\n",
        "axs[0, 1].set_xlabel('Epochs')\n",
        "axs[0, 1].set_yticks([0.5, 0.6, 0.7, 0.8, 0.9, 1])\n",
        "axs[0, 1].set_ylabel('Test Set AUC')\n",
        "axs[0, 1].set_title(\"b) Robustness - Model 1\", fontsize=6)#, fontsize=12, fontweight = \"bold\")\n",
        "\n",
        "axs[0, 1].xaxis.label.set_size(4)\n",
        "axs[0, 1].yaxis.label.set_size(4)\n",
        "axs[0, 1].tick_params(axis='x', labelsize=4)\n",
        "axs[0, 1].tick_params(axis='y', labelsize=4)\n",
        "\n",
        "####################Second Row####################\n",
        "l6=axs[1, 0].plot(x_axis, exp_ImageNet_2)\n",
        "l7=axs[1, 0].plot(x_axis, exp_ImageNet_TF_F1B_2)\n",
        "l8=axs[1, 0].plot(x_axis, exp_ImageNet_TF_F2B_2)\n",
        "\n",
        "axs[1, 0].set_xlabel('Epochs')\n",
        "axs[1, 0].set_yticks([0.5, 0.6, 0.7, 0.8, 0.9, 1])\n",
        "axs[1, 0].set_ylabel('Test Set AUC')\n",
        "axs[1, 0].set_title(\"c) Brain Tumor Type Classification - Model 2\", fontsize=6)#, fontsize=12, fontweight = \"bold\")\n",
        "axs[1, 0].xaxis.label.set_size(6)\n",
        "\n",
        "axs[1, 0].xaxis.label.set_size(4)\n",
        "axs[1, 0].yaxis.label.set_size(4)\n",
        "axs[1, 0].tick_params(axis='x', labelsize=4)\n",
        "axs[1, 0].tick_params(axis='y', labelsize=4)\n",
        "\n",
        "#2nd Column\n",
        "#l7=axs[1, 1].plot(x_axis, exp_12_1_2_ro)\n",
        "#l8=axs[1, 1].plot(x_axis, exp_12_2_2_ro)\n",
        "l9=axs[1, 1].plot(x_axis, exp_ImageNet_Kaggle_2)\n",
        "l10=axs[1, 1].plot(x_axis, exp_ImageNet_TF_F1B_Kaggle_2)\n",
        "l11=axs[1, 1].plot(x_axis, exp_ImageNet_TF_F2B_Kaggle_2)\n",
        "\n",
        "axs[1, 1].set_xlabel('Epochs')\n",
        "axs[1, 1].set_yticks([0.5, 0.6, 0.7, 0.8, 0.9, 1])\n",
        "axs[1, 1].set_ylabel('Test Set AUC')\n",
        "axs[1, 1].set_title(\"d) Robustness - Model 2\", fontsize=6)#, fontsize=12, fontweight = \"bold\")\n",
        "axs[1, 1].xaxis.label.set_size(6)\n",
        "\n",
        "axs[1, 1].xaxis.label.set_size(4)\n",
        "axs[1, 1].yaxis.label.set_size(4)\n",
        "axs[1, 1].tick_params(axis='x', labelsize=4)\n",
        "axs[1, 1].tick_params(axis='y', labelsize=4)\n",
        "\n",
        "#plt.legend(strategies, loc = \"right center\", ncol=1)\n",
        "\n",
        "plt.subplots_adjust(bottom=0.15,\n",
        "                    wspace=0.2, \n",
        "                    hspace=0.4)\n",
        "#for row in range(2):\n",
        "#    for col in range(2):\n",
        "#        axs[row, col].annotate(f'axs[{row}, {col}]', (0.5, 0.5),\n",
        "#                               transform=axs[row, col].transAxes,\n",
        "#                               ha='center', va='center', fontsize=18,\n",
        "#                               color='darkgrey')\n",
        "fig.suptitle('ImageNet vs ImageNet_TF_F1B vs ImageNet_TF_F2B', fontweight=\"bold\")\n",
        "fig.legend([l0, l1, l2, l3, l4, l5, l6, l7, l8, l9, l10, l11], \n",
        "            #l_9, l_10, l_11, l_12, l_3, l_14, l_5, l_16],     # The line objects\n",
        "           labels=['ImageNet', 'ImageNet_TF_F1B', 'ImageNet_TF_F2B'],   # The labels for each line\n",
        "           loc=\"lower center\",   # Position of legend\n",
        "           #borderaxespad=0.1,    # Small spacing around legend box\n",
        "           #title=\"Legend Title\"  # Title for the legend\n",
        "           ncol=3,\n",
        "           fontsize=8 \n",
        "           #title = \"Legends\",\n",
        "           #bbox_to_anchor=(0.5, 0.93)\n",
        "           )\n",
        "plt.show()\n",
        "plt.close(fig)"
      ],
      "metadata": {
        "id": "VKJie4NooJ-e"
      },
      "execution_count": null,
      "outputs": []
    }
  ]
}
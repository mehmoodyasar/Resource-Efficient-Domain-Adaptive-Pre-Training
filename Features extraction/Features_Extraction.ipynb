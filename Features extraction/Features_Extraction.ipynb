{
  "nbformat": 4,
  "nbformat_minor": 0,
  "metadata": {
    "colab": {
      "name": "GitHub_Features_Extraction.ipynb",
      "provenance": [],
      "collapsed_sections": []
    },
    "kernelspec": {
      "name": "python3",
      "display_name": "Python 3"
    },
    "language_info": {
      "name": "python"
    }
  },
  "cells": [
    {
      "cell_type": "code",
      "execution_count": null,
      "metadata": {
        "id": "rqjKrC7E8SLt"
      },
      "outputs": [],
      "source": [
        "#import necessary libraries\n",
        "from keras.models import Sequential\n",
        "from keras.layers import Dense, Activation, Dropout, GlobalAveragePooling2D, Input\n",
        "from tensorflow.keras.utils import to_categorical\n",
        "from sklearn.model_selection import train_test_split\n",
        "import numpy as np\n",
        "import tensorflow as tf\n",
        "from tensorflow.keras import optimizers\n",
        "from keras.callbacks import ModelCheckpoint\n",
        "from keras import models "
      ]
    },
    {
      "cell_type": "code",
      "source": [
        "#Run this cell only if your data resides on Google drive\n",
        "from google.colab import drive\n",
        "drive.mount('/content/gdrive')"
      ],
      "metadata": {
        "id": "Sh94CeZB8pkv"
      },
      "execution_count": null,
      "outputs": []
    },
    {
      "cell_type": "code",
      "source": [
        "#Set base_path to the location where the data and results of your project\n",
        "#reside\n",
        "base_path = '/content/gdrive/MyDrive/HPT/'"
      ],
      "metadata": {
        "id": "s1fmnPPR8xO3"
      },
      "execution_count": null,
      "outputs": []
    },
    {
      "cell_type": "code",
      "source": [
        "#Decide the downstream task for which you want to perform\n",
        "Dateset = \"CE-MRI\" "
      ],
      "metadata": {
        "id": "RpY1j2rZ9Qhn"
      },
      "execution_count": null,
      "outputs": []
    },
    {
      "cell_type": "code",
      "source": [
        "# Image shape set to constant for further use\n",
        "if Dateset = \"CE-MRI\":\n",
        "  IMG_SHAPE = (256, 256, 3)\n",
        "elif Dateset = \"HMS\":\n",
        "  IMG_SHAPE = (256, 256, 3)\n",
        "elif Dataset = \"Kaggle BTTC\":\n",
        "  "
      ],
      "metadata": {
        "id": "T7as23L29abP"
      },
      "execution_count": null,
      "outputs": []
    },
    {
      "cell_type": "markdown",
      "source": [
        "#Loading Saved Models for Different Strategies\n",
        "The following functions will load the models as per the strategy provided in the arguments. "
      ],
      "metadata": {
        "id": "mGSED8MQJb-3"
      }
    },
    {
      "cell_type": "markdown",
      "source": [
        "Function to load ResNet50 base architecture as per the given input_shape"
      ],
      "metadata": {
        "id": "Vk65YuD2Jsyn"
      }
    },
    {
      "cell_type": "code",
      "source": [
        "def load_base_model(input_shape):\n",
        "  base_model = tf.keras.applications.ResNet50(input_shape=input_shape, \n",
        "                                               include_top=False, \n",
        "                                               weights=\"imagenet\")\n",
        "  return base_model"
      ],
      "metadata": {
        "id": "1_OEuaqTB2_W"
      },
      "execution_count": null,
      "outputs": []
    },
    {
      "cell_type": "markdown",
      "source": [
        "Function to load models for the strategies based on the first one block of ResNet50 base architecture "
      ],
      "metadata": {
        "id": "lg_SWlIuJ3If"
      }
    },
    {
      "cell_type": "code",
      "source": [
        "#This function loads model based on first one block of ResNet50\n",
        "#The parameter DAPT is of type boolean and indicates whether or \n",
        "#not DAPT was performed on the model.\n",
        "#True value means that DAPT was performed (DA_TF_F1B strategy), False\n",
        "#means that DAPT was not performed (ImageNet_TF_F1B strategy) \n",
        "def load_F1B_model(DAPT, input_shape):\n",
        "  base_model = load_base_model(input_shape)\n",
        "  \n",
        "  img_input = layers.Input(shape=input_shape)\n",
        "\n",
        "  x = img_input\n",
        "  for i, layer in enumerate(base_model.layers):\n",
        "    if i >= 1 and i<= 12:\n",
        "      x = layer(x)\n",
        "      if i == 6:\n",
        "        temp1 = x\n",
        "    elif i == 13:\n",
        "      shortcut1 = layer(temp1)\n",
        "    elif i == 14:\n",
        "      x = layer(x)\n",
        "    elif i == 15:\n",
        "      shortcut1 = layer(shortcut1)\n",
        "    elif i == 16:\n",
        "      x = layer(x)\n",
        "    elif i == 17:\n",
        "      x = layers.add([x, shortcut1])\n",
        "    elif i >= 18 and i <= 26:\n",
        "      x = layer(x)\n",
        "      if i == 18:\n",
        "        temp2 = x\n",
        "    elif i == 27:\n",
        "      x = layers.add([x, temp2])\n",
        "    elif i >= 28 and i <= 36:\n",
        "      x = layer(x)\n",
        "      if i == 28:\n",
        "        temp3 = x\n",
        "    elif i == 37:\n",
        "      x = layers.add([x, temp3]) \n",
        "    elif i==38:\n",
        "      x = layer(x)\n",
        "  \n",
        "  x = GlobalAveragePooling2D(name='avg_pool')(x)\n",
        "  \n",
        "  cloned_model = models.Model(img_input, x, name='TF_F1B')\n",
        "\n",
        "  if DAPT:  #load the weights of DAPT trained model\n",
        "    DA_TF_F1B_model = models.load_model(base_path + 'DAPT/Checkpoints/DA_TF_F1B/phase_2/checkpoint-150.h5')\n",
        "    \n",
        "    #remove the sigmoid layer\n",
        "    DA_TF_F1B_model_base = tf.keras.models.Model(inputs=exp_4_model.input,\n",
        "                              outputs=exp_4_model.layers[-2].output)\n",
        "\n",
        "    #copy the weights of DAPT trained model to the newly created model\n",
        "    cloned_model.set_weights(DA_TF_F1B_model_base.get_weights()) \n",
        "  else:  #copy ImageNet weights to the pruned model\n",
        "    \n",
        "    for i, layer in enumerate(base_model.layers):\n",
        "    \n",
        "      for j, trans_layer in enumerate(cloned_model.layers): \n",
        "        if layer.name==trans_layer.name:\n",
        "          cloned_model.layers[j].set_weights(base_model.layers[i].get_weights())\n",
        "      \n",
        "  #return the model\n",
        "  return cloned_model"
      ],
      "metadata": {
        "id": "4uELpzuoAicf"
      },
      "execution_count": null,
      "outputs": []
    },
    {
      "cell_type": "markdown",
      "source": [
        "Function to load models for the strategies based on the first two blocks of ResNet50 base architecture "
      ],
      "metadata": {
        "id": "MDVwJgWeKDV_"
      }
    },
    {
      "cell_type": "code",
      "source": [
        "#This function loads model based on first two blocks of ResNet50\n",
        "#The parameter DAPT is of type boolean and indicates whether or \n",
        "#not DAPT was performed on the model.\n",
        "#True value means that DAPT was performed (DA_TF_F2B strategy), False\n",
        "#means that DAPT was not performed (ImageNet_TF_F2B strategy) \n",
        "def load_F2B_model(DAPT, input_shape):\n",
        "  base_model = load_base_model(input_shape)\n",
        "\n",
        "  img_input = layers.Input(shape=, input_shape)\n",
        "  x = img_input\n",
        "\n",
        "  for i, layer in enumerate(base_model.layers):\n",
        "    if i >= 1 and i<= 12:\n",
        "      x = layer(x)\n",
        "      if i == 6:\n",
        "        temp1 = x\n",
        "    elif i == 13:\n",
        "      shortcut1 = layer(temp1)\n",
        "    elif i == 14:\n",
        "      x = layer(x)\n",
        "    elif i == 15:\n",
        "      shortcut1 = layer(shortcut1)\n",
        "    elif i == 16:\n",
        "      x = layer(x)\n",
        "    elif i == 17:\n",
        "      x = layers.add([x, shortcut1])\n",
        "    elif i >= 18 and i <= 26:\n",
        "      x = layer(x)\n",
        "      if i == 18:\n",
        "        temp2 = x\n",
        "    elif i == 27:\n",
        "      x = layers.add([x, temp2])\n",
        "    elif i >= 28 and i <= 36:\n",
        "      x = layer(x)\n",
        "      if i == 28:\n",
        "        temp3 = x\n",
        "    elif i == 37:\n",
        "      x = layers.add([x, temp3]) \n",
        "    elif i >= 38 and i <= 44:\n",
        "      x = layer(x)\n",
        "      if i == 38:\n",
        "        temp4 = x\n",
        "    elif i == 45:\n",
        "      shortcut2 = layer(temp4)\n",
        "    elif i == 46: \n",
        "      x = layer(x)\n",
        "    elif i == 47:\n",
        "      shortcut2 = layer(shortcut2)\n",
        "    elif i == 48:\n",
        "      x = layer(x)\n",
        "    elif i == 49:\n",
        "      x = layers.add([x, shortcut2])\n",
        "    elif i >= 50 and i <= 58:\n",
        "      x = layer(x)\n",
        "      if i == 50:\n",
        "        temp5 = x\n",
        "    elif i == 59:\n",
        "      x = layers.add([x, temp5])\n",
        "    elif i >= 60 and i <= 68:\n",
        "      x = layer(x)\n",
        "      if i == 60:\n",
        "        temp6 = x\n",
        "    elif i == 69:\n",
        "      x = layers.add([x, temp6])\n",
        "    elif i >= 70 and i <= 78:\n",
        "      x = layer(x)\n",
        "      if i == 70:\n",
        "        temp7 = x\n",
        "    elif i == 79:\n",
        "      x = layers.add([x, temp7])\n",
        "    elif i == 80:\n",
        "      x = layer(x)\n",
        "  \n",
        "  x = GlobalAveragePooling2D(name='avg_pool')(x)\n",
        "  cloned_model = models.Model(img_input, x, name='trans_two_block_resnet50')\n",
        "\n",
        "  if DAPT:  #load the weights of DAPT trained model\n",
        "    DA_TF_F2B_model = models.load_model(base_path + 'DAPT/Checkpoints/DA_TF_F2B/phase_2/checkpoint-150.h5')\n",
        "    \n",
        "    #remove the sigmoid layer\n",
        "    DA_TF_F2B_model = tf.keras.models.Model(inputs=exp_4_model.input,\n",
        "                              outputs=exp_4_model.layers[-2].output)\n",
        "\n",
        "    #copy the weights of DAPT trained model to the newly created model\n",
        "    cloned_model.set_weights(DA_TF_F2B_model.get_weights()) \n",
        "  else:  #copy ImageNet weights to the pruned model\n",
        "    \n",
        "    for i, layer in enumerate(base_model.layers):\n",
        "    \n",
        "      for j, trans_layer in enumerate(cloned_model.layers): \n",
        "        if layer.name==trans_layer.name:\n",
        "          cloned_model.layers[j].set_weights(base_model.layers[i].get_weights())\n",
        "  \n",
        "  return cloned_model"
      ],
      "metadata": {
        "id": "46-yZFm3GdBp"
      },
      "execution_count": null,
      "outputs": []
    },
    {
      "cell_type": "markdown",
      "source": [
        "Function to load models for the strategies based on the complete ResNet50 base architecture "
      ],
      "metadata": {
        "id": "DrHgiBehKGo-"
      }
    },
    {
      "cell_type": "code",
      "source": [
        "#This function loads model for the strategies based on the complete ResNet50\n",
        "# architecture. The parameter strategy is of type string and indicates the \n",
        "#strategy for which the corresponding checkpoint/saved model will be loaded.\n",
        " \n",
        "def load_complete_architecture_model(strategy, input_shape):\n",
        "  base_model = load_base_model(input_shape)\n",
        "  global_average_layer = GlobalAveragePooling2D()(base_model.output)\n",
        "  cloned_model = models.Model(inputs=base_model.input,\n",
        "                              outputs=global_average_layer)\n",
        "  \n",
        "  #load model for partial DAPT strategies\n",
        "  if strategy = \"DA\" or strategy = \"DA_L1SB\" or strategy = \"DA_L2SB\":\n",
        "    strategy_model = models.load_model(base_path + 'DAPT/Checkpoints/' + Strategy + '/phase_2/checkpoint-150.h')\n",
        "  \n",
        "  #load model for hybrid DAPT strategies\n",
        "  elif strategy = \"DA_L1SB_PFT\" or strategy = \"DA_L2SB_PFT\":\n",
        "    strategy_model = models.load_model(base_path + 'DAPT/Checkpoints/' + Strategy + '/phase_3/checkpoint-50.h')\n",
        "  \n",
        "  #for ImageNet strategy, ImageNet weights will be used \n",
        "  if strategy = \"ImageNet\":\n",
        "    \n",
        "  else: #for other strategies, copy DAPT trained weights to the model\n",
        "    cloned_model.set_weights(strategy_model.get_weights()) \n",
        "  \n",
        "  return cloned_model"
      ],
      "metadata": {
        "id": "wqKThkKue9Jp"
      },
      "execution_count": null,
      "outputs": []
    },
    {
      "cell_type": "markdown",
      "source": [
        "#Functions for Feature Extraction \n",
        "The following functions will extract the features from the loaded models for each dataset (where dataset name is provided as a function parameters)  "
      ],
      "metadata": {
        "id": "REhqQaMK_uOf"
      }
    },
    {
      "cell_type": "markdown",
      "source": [
        "Extract features for brain tumor type classification with 3 classes (Meningioma, Glioma and Pituitary) for the datasets CE-MRI and Kaggle BTTC"
      ],
      "metadata": {
        "id": "z0vQtlTUK3F2"
      }
    },
    {
      "cell_type": "code",
      "source": [
        "def extract_BTTC_features(dataset, strategy):\n",
        "  \n",
        "  #Extracting and Saving Glioma Features\n",
        "  Glioma = np.load(base_path + 'Datasets/' + dataset '/Glioma.npy')\n",
        "  print (\"Glioma Examples Loaded\")\n",
        "\n",
        "  if strategy = \"DA_TF_F1B\":\n",
        "    Glioma_predictions = DA_TF_F1B_model.predict(Glioma)\n",
        "  elif strategy = \"ImageNet_TF_F1B\":\n",
        "    Glioma_predictions = ImageNet_TF_F1B_model.predict(Glioma)\n",
        "  elif strategy = \"DA_TF_F2B\":\n",
        "    Glioma_predictions = DA_TF_F2B_model.predict(Glioma)\n",
        "  elif strategy = \"ImageNet_TF_F2B\":\n",
        "    Glioma_predictions = ImageNet_TF_F2B_model.predict(Glioma)\n",
        "  elif strategy = \"DA\":\n",
        "    Glioma_predictions = DA_model.predict(Glioma)\n",
        "  elif strategy = \"DA_L1SB\":\n",
        "    Glioma_predictions = DA_L1SB_model.predict(Glioma)\n",
        "  elif strategy = \"DA_L2SB\":\n",
        "    Glioma_predictions = DA_L2SB_model.predict(Glioma)\n",
        "  elif strategy = \"DA_L1SB_PFT\":\n",
        "    Glioma_predictions = DA_L1SB_PFT_model.predict(Glioma)\n",
        "  elif strategy = \"DA_L2SB_PFT\":\n",
        "    Glioma_predictions = DA_L2SB_PFT_model.predict(Glioma)\n",
        "  elif strategy = \"ImageNet\":\n",
        "    Glioma_predictions = ImageNet_model.predict(Glioma)\n",
        "\n",
        "  #saving Glioma Features\n",
        "  np.save(base_path + 'Features/' + strategy + '/' dataset + '/Glioma_Features.npy', Glioma_predictions)\n",
        "  print (\"Glioma Features Saved\")\n",
        "\n",
        "  ##################################################################\n",
        "  #Extracting and Saving Meningioma Features\n",
        "  Meningioma = np.load(base_path + 'Datasets/' + dataset '/Meningioma.npy')\n",
        "  print (\"Meningioma Examples Loaded\")\n",
        "\n",
        "  if strategy = \"DA_TF_F1B\":\n",
        "    Meningioma_predictions = DA_TF_F1B_model.predict(Meningioma)\n",
        "  elif strategy = \"ImageNet_TF_F1B\":\n",
        "    Meningioma_predictions = ImageNet_TF_F1B_model.predict(Meningioma)\n",
        "  elif strategy = \"DA_TF_F2B\":\n",
        "    Meningioma_predictions = DA_TF_F2B_model.predict(Meningioma)\n",
        "  elif strategy = \"ImageNet_TF_F2B\":\n",
        "    Meningioma_predictions = ImageNet_TF_F2B_model.predict(Meningioma)\n",
        "  elif strategy = \"DA\":\n",
        "    Meningioma_predictions = DA_model.predict(Meningioma)\n",
        "  elif strategy = \"DA_L1SB\":\n",
        "    Meningioma_predictions = DA_L1SB_model.predict(Meningioma)\n",
        "  elif strategy = \"DA_L2SB\":\n",
        "    Meningioma_predictions = DA_L2SB_model.predict(Meningioma)\n",
        "  elif strategy = \"DA_L1SB_PFT\":\n",
        "    Meningioma_predictions = DA_L1SB_PFT_model.predict(Meningioma)\n",
        "  elif strategy = \"DA_L2SB_PFT\":\n",
        "    Meningioma_predictions = DA_L2SB_PFT_model.predict(Meningioma)\n",
        "  elif strategy = \"ImageNet\":\n",
        "    Meningioma_predictions = ImageNet_model.predict(Meningioma)\n",
        "\n",
        "  #saving Meningioma Features\n",
        "  np.save(base_path + 'Features/' + strategy + '/' dataset + '/Meningioma_Features.npy', Meningioma_predictions)\n",
        "  print (\"Meningioma Features Saved\")\n",
        "\n",
        "  ##################################################################\n",
        "  #Extracting and Saving Pituitary Features\n",
        "  Pituitary = np.load(base_path + 'Datasets/' + dataset '/Pituitary.npy')\n",
        "  print (\"Pituitary Examples Loaded\")\n",
        "\n",
        "  if strategy = \"DA_TF_F1B\":\n",
        "    Pituitary_predictions = DA_TF_F1B_model.predict(Pituitary)\n",
        "  elif strategy = \"ImageNet_TF_F1B\":\n",
        "    Pituitary_predictions = ImageNet_TF_F1B_model.predict(Pituitary)\n",
        "  elif strategy = \"DA_TF_F2B\":\n",
        "    Pituitary_predictions = DA_TF_F2B_model.predict(Pituitary)\n",
        "  elif strategy = \"ImageNet_TF_F2B\":\n",
        "    Pituitary_predictions = ImageNet_TF_F2B_model.predict(Pituitary)\n",
        "  elif strategy = \"DA\":\n",
        "    Pituitary_predictions = DA_model.predict(Pituitary)\n",
        "  elif strategy = \"DA_L1SB\":\n",
        "    Pituitary_predictions = DA_L1SB_model.predict(Pituitary)\n",
        "  elif strategy = \"DA_L2SB\":\n",
        "    Pituitary_predictions = DA_L2SB_model.predict(Pituitary)\n",
        "  elif strategy = \"DA_L1SB_PFT\":\n",
        "    Pituitary_predictions = DA_L1SB_PFT_model.predict(Pituitary)\n",
        "  elif strategy = \"DA_L2SB_PFT\":\n",
        "    Pituitary_predictions = DA_L2SB_PFT_model.predict(Pituitary)\n",
        "  elif strategy = \"ImageNet\":\n",
        "    Pituitary_predictions = ImageNet_model.predict(Pituitary)\n",
        "\n",
        "  #saving Pituitary Features\n",
        "  np.save(base_path + 'Features/' + strategy + '/' dataset + '/Pituitary_Features.npy', Pituitary_predictions)\n",
        "  print (\"Pituitary Features Saved\")"
      ],
      "metadata": {
        "id": "pscpB6beUw2O"
      },
      "execution_count": null,
      "outputs": []
    },
    {
      "cell_type": "markdown",
      "source": [
        "Extract features for brain disease classification with 5 classes (Inflammatory, Cerebrovascular, Degenerative, Normal and Neoplastic) for the dataset HMS"
      ],
      "metadata": {
        "id": "wU04rt3iLHhV"
      }
    },
    {
      "cell_type": "code",
      "source": [
        "def extract_brain_disease_features(strategy):\n",
        "  #Extracting and Saving Inflammatory Features\n",
        "  Inflammatory = np.load(base_path + 'Datasets/HMS/Inflammatory.npy')\n",
        "  print (\"Inflammatory Examples Loaded\")\n",
        "\n",
        "  if strategy = \"DA_TF_F1B\":\n",
        "    Inflammatory_predictions = DA_TF_F1B_model.predict(Inflammatory)\n",
        "  elif strategy = \"ImageNet_TF_F1B\":\n",
        "    Inflammatory_predictions = ImageNet_TF_F1B_model.predict(Inflammatory)\n",
        "  elif strategy = \"DA_TF_F2B\":\n",
        "    Inflammatory_predictions = DA_TF_F2B_model.predict(Inflammatory)\n",
        "  elif strategy = \"ImageNet_TF_F2B\":\n",
        "    Inflammatory_predictions = ImageNet_TF_F2B_model.predict(Inflammatory)\n",
        "  elif strategy = \"DA\":\n",
        "    Inflammatory_predictions = DA_model.predict(Inflammatory)\n",
        "  elif strategy = \"DA_L1SB\":\n",
        "    Inflammatory_predictions = DA_L1SB_model.predict(Inflammatory)\n",
        "  elif strategy = \"DA_L2SB\":\n",
        "    Inflammatory_predictions = DA_L2SB_model.predict(Inflammatory)\n",
        "  elif strategy = \"DA_L1SB_PFT\":\n",
        "    Inflammatory_predictions = DA_L1SB_PFT_model.predict(Inflammatory)\n",
        "  elif strategy = \"DA_L2SB_PFT\":\n",
        "    Inflammatory_predictions = DA_L2SB_PFT_model.predict(Inflammatory)\n",
        "  elif strategy = \"ImageNet\":\n",
        "    Inflammatory_predictions = ImageNet_model.predict(Inflammatory)\n",
        "\n",
        "  #saving Inflammatory Features\n",
        "  np.save(base_path + 'Features/' + strategy + '/HMS/Inflammatory_Features.npy', Inflammatory_predictions)\n",
        "  print (\"Inflammatory Features Saved\")\n",
        "\n",
        "  #############################################################################\n",
        "  #Extracting and Saving Cerebrovascular Features\n",
        "  Cerebrovascular = np.load(base_path + 'Datasets/HMS/Cerebrovascular.npy')\n",
        "  print (\"Cerebrovascular Examples Loaded\")\n",
        "\n",
        "  if strategy = \"DA_TF_F1B\":\n",
        "    Cerebrovascular_predictions = DA_TF_F1B_model.predict(Cerebrovascular)\n",
        "  elif strategy = \"ImageNet_TF_F1B\":\n",
        "    Cerebrovascular_predictions = ImageNet_TF_F1B_model.predict(Cerebrovascular)\n",
        "  elif strategy = \"DA_TF_F2B\":\n",
        "    Cerebrovascular_predictions = DA_TF_F2B_model.predict(Cerebrovascular)\n",
        "  elif strategy = \"ImageNet_TF_F2B\":\n",
        "    Cerebrovascular_predictions = ImageNet_TF_F2B_model.predict(Cerebrovascular)\n",
        "  elif strategy = \"DA\":\n",
        "    Cerebrovascular_predictions = DA_model.predict(Cerebrovascular)\n",
        "  elif strategy = \"DA_L1SB\":\n",
        "    Cerebrovascular_predictions = DA_L1SB_model.predict(Cerebrovascular)\n",
        "  elif strategy = \"DA_L2SB\":\n",
        "    Cerebrovascular_predictions = DA_L2SB_model.predict(Cerebrovascular)\n",
        "  elif strategy = \"DA_L1SB_PFT\":\n",
        "    Cerebrovascular_predictions = DA_L1SB_PFT_model.predict(Cerebrovascular)\n",
        "  elif strategy = \"DA_L2SB_PFT\":\n",
        "    Cerebrovascular_predictions = DA_L2SB_PFT_model.predict(Cerebrovascular)\n",
        "  elif strategy = \"ImageNet\":\n",
        "    Cerebrovascular_predictions = ImageNet_model.predict(Cerebrovascular)\n",
        "\n",
        "  #saving Cerebrovascular Features\n",
        "  np.save(base_path + 'Features/' + strategy + '/HMS/Cerebrovascular_Features.npy', Cerebrovascular_predictions)\n",
        "  print (\"Cerebrovascular Features Saved\")\n",
        "\n",
        "  #############################################################################\n",
        "  #Extracting and Saving Degenerative Features\n",
        "  Degenerative = np.load(base_path + 'Datasets/HMS/Degenerative.npy')\n",
        "  print (\"Degenerative Examples Loaded\")\n",
        "\n",
        "  if strategy = \"DA_TF_F1B\":\n",
        "    Degenerative_predictions = DA_TF_F1B_model.predict(Degenerative)\n",
        "  elif strategy = \"ImageNet_TF_F1B\":\n",
        "    Degenerative_predictions = ImageNet_TF_F1B_model.predict(Degenerative)\n",
        "  elif strategy = \"DA_TF_F2B\":\n",
        "    Degenerative_predictions = DA_TF_F2B_model.predict(Degenerative)\n",
        "  elif strategy = \"ImageNet_TF_F2B\":\n",
        "    Degenerative_predictions = ImageNet_TF_F2B_model.predict(Degenerative)\n",
        "  elif strategy = \"DA\":\n",
        "    Degenerative_predictions = DA_model.predict(Degenerative)\n",
        "  elif strategy = \"DA_L1SB\":\n",
        "    Degenerative_predictions = DA_L1SB_model.predict(Degenerative)\n",
        "  elif strategy = \"DA_L2SB\":\n",
        "    Degenerative_predictions = DA_L2SB_model.predict(Degenerative)\n",
        "  elif strategy = \"DA_L1SB_PFT\":\n",
        "    Degenerative_predictions = DA_L1SB_PFT_model.predict(Degenerative)\n",
        "  elif strategy = \"DA_L2SB_PFT\":\n",
        "    Degenerative_predictions = DA_L2SB_PFT_model.predict(Degenerative)\n",
        "  elif strategy = \"ImageNet\":\n",
        "    Degenerative_predictions = ImageNet_model.predict(Degenerative)\n",
        "\n",
        "  #saving Degenerative Features\n",
        "  np.save(base_path + 'Features/' + strategy + '/HMS/Degenerative_Features.npy', Degenerative_predictions)\n",
        "  print (\"Degenerative Features Saved\")\n",
        "\n",
        "  #############################################################################\n",
        "  #Extracting and Saving Normal Features\n",
        "  Normal = np.load(base_path + 'Datasets/HMS/Normal.npy')\n",
        "  print (\"Normal Examples Loaded\")\n",
        "\n",
        "  if strategy = \"DA_TF_F1B\":\n",
        "    Normal_predictions = DA_TF_F1B_model.predict(Normal)\n",
        "  elif strategy = \"ImageNet_TF_F1B\":\n",
        "    Normal_predictions = ImageNet_TF_F1B_model.predict(Normal)\n",
        "  elif strategy = \"DA_TF_F2B\":\n",
        "    Normal_predictions = DA_TF_F2B_model.predict(Normal)\n",
        "  elif strategy = \"ImageNet_TF_F2B\":\n",
        "    Normal_predictions = ImageNet_TF_F2B_model.predict(Normal)\n",
        "  elif strategy = \"DA\":\n",
        "    Normal_predictions = DA_model.predict(Normal)\n",
        "  elif strategy = \"DA_L1SB\":\n",
        "    Normal_predictions = DA_L1SB_model.predict(Normal)\n",
        "  elif strategy = \"DA_L2SB\":\n",
        "    Normal_predictions = DA_L2SB_model.predict(Normal)\n",
        "  elif strategy = \"DA_L1SB_PFT\":\n",
        "    Normal_predictions = DA_L1SB_PFT_model.predict(Normal)\n",
        "  elif strategy = \"DA_L2SB_PFT\":\n",
        "    Normal_predictions = DA_L2SB_PFT_model.predict(Normal)\n",
        "  elif strategy = \"ImageNet\":\n",
        "    Normal_predictions = ImageNet_model.predict(Normal)\n",
        "\n",
        "  #saving Normal Features\n",
        "  np.save(base_path + 'Features/' + strategy + '/HMS/Normal_Features.npy', Normal_predictions)\n",
        "  print (\"Normal Features Saved\")\n",
        "\n",
        "  #############################################################################\n",
        "  #Extracting and Saving Neoplastic Features\n",
        "  Neoplastic = np.load(base_path + 'Datasets/HMS/Neoplastic.npy')\n",
        "  print (\"Neoplastic Examples Loaded\")\n",
        "\n",
        "  if strategy = \"DA_TF_F1B\":\n",
        "    Neoplastic_predictions = DA_TF_F1B_model.predict(Neoplastic)\n",
        "  elif strategy = \"ImageNet_TF_F1B\":\n",
        "    Neoplastic_predictions = ImageNet_TF_F1B_model.predict(Neoplastic)\n",
        "  elif strategy = \"DA_TF_F2B\":\n",
        "    Neoplastic_predictions = DA_TF_F2B_model.predict(Neoplastic)\n",
        "  elif strategy = \"ImageNet_TF_F2B\":\n",
        "    Neoplastic_predictions = ImageNet_TF_F2B_model.predict(Neoplastic)\n",
        "  elif strategy = \"DA\":\n",
        "    Neoplastic_predictions = DA_model.predict(Neoplastic)\n",
        "  elif strategy = \"DA_L1SB\":\n",
        "    Neoplastic_predictions = DA_L1SB_model.predict(Neoplastic)\n",
        "  elif strategy = \"DA_L2SB\":\n",
        "    Neoplastic_predictions = DA_L2SB_model.predict(Neoplastic)\n",
        "  elif strategy = \"DA_L1SB_PFT\":\n",
        "    Neoplastic_predictions = DA_L1SB_PFT_model.predict(Neoplastic)\n",
        "  elif strategy = \"DA_L2SB_PFT\":\n",
        "    Neoplastic_predictions = DA_L2SB_PFT_model.predict(Neoplastic)\n",
        "  elif strategy = \"ImageNet\":\n",
        "    Neoplastic_predictions = ImageNet_model.predict(Neoplastic)\n",
        "\n",
        "  #saving Neoplastic Features\n",
        "  np.save(base_path + 'Features/' + strategy + '/HMS/Neoplastic_Features.npy', Neoplastic_predictions)\n",
        "  print (\"Neoplastic Features Saved\")"
      ],
      "metadata": {
        "id": "dRXSwwegYibY"
      },
      "execution_count": null,
      "outputs": []
    },
    {
      "cell_type": "markdown",
      "source": [
        "#Function Calls to Extract and Save Features for All the Strategies"
      ],
      "metadata": {
        "id": "buG_YitPDtX1"
      }
    },
    {
      "cell_type": "markdown",
      "source": [
        "Function Calls to Extract and Save Features for the Strategy DA_TF_F1B"
      ],
      "metadata": {
        "id": "K87w7BFLEI4t"
      }
    },
    {
      "cell_type": "code",
      "source": [
        "########################################################\n",
        "#load/set the model for DA_TF_F1B for HMS/CE-MRI\n",
        "Image_shape = (256, 256, 3)\n",
        "DA_TF_F1B_model = load_F1B_model(True, Image_shape)\n",
        "\n",
        "#extract and save CE-MRI features \n",
        "extract_BTTC_features(\"CE-MRI\", \"DA_TF_F1B\")\n",
        "\n",
        "#extract and save HMS features\n",
        "extract_brain_disease_features(\"HMS\", \"DA_TF_F1B\")\n",
        "\n",
        "########################################################\n",
        "#load/set the model for DA_TF_F1B for Kaggle BTTC dataset\n",
        "Image_shape = (240, 240, 3)\n",
        "DA_TF_F1B_model = load_F1B_model(True, Image_shape)\n",
        "\n",
        "#extract and save Kaggle BTTC features\n",
        "extract_BTTC_features(\"Kaggle BTTC\", \"DA_TF_F1B\")\n",
        "\n",
        "#ImageNet_TF_F1B_model = load_F1B_model(False)\n",
        "\n",
        "#load/set the model for TF_F2B\n",
        "DA_TF_F2B_model = load_F2B_model(True)\n",
        "ImageNet_TF_F2B_model = load_F2B_model(False)\n",
        "\n",
        "#load the model for DA strategy\n",
        "DA_model = load_complete_architecture_model(\"DA\")\n",
        "\n",
        "#load the model for DA_L1SB strategy\n",
        "DA_L1SB_model = load_complete_architecture_model(\"DA_L1SB\")\n",
        "\n",
        "#load the model for DA_L2SB strategy\n",
        "DA_L2SB_model = load_complete_architecture_model(\"DA_L2SB\")\n",
        "\n",
        "#load the model for DA_L1SB_PFT strategy\n",
        "DA_L1SB_PFT_model = load_complete_architecture_model(\"DA_L1SB_PFT\")\n",
        "\n",
        "#load the model for DA_L2SB_PFT strategy\n",
        "DA_L2SB_PFT_model = load_complete_architecture_model(\"DA_L2SB_PFT\")\n",
        "\n",
        "#load the model for ImageNet strategy\n",
        "ImageNet_model = load_complete_architecture_model(\"ImageNet\")"
      ],
      "metadata": {
        "id": "wf6X_VjW_mf_"
      },
      "execution_count": null,
      "outputs": []
    },
    {
      "cell_type": "markdown",
      "source": [
        "Function Calls to Extract and Save Features for the Strategy ImageNet_TF_F1B\n",
        "\n"
      ],
      "metadata": {
        "id": "QVhJ0P-tESAM"
      }
    },
    {
      "cell_type": "code",
      "source": [
        "########################################################\n",
        "#load/set the model for ImageNet_TF_F1B for HMS/CE-MRI\n",
        "Image_shape = (256, 256, 3)\n",
        "ImageNet_TF_F1B_model = load_F1B_model(False, Image_shape)\n",
        "\n",
        "#extract and save CE-MRI features \n",
        "extract_BTTC_features(\"CE-MRI\", \"ImageNet_TF_F1B\")\n",
        "\n",
        "#extract and save HMS features\n",
        "extract_brain_disease_features(\"HMS\", \"ImageNet_TF_F1B\")\n",
        "\n",
        "########################################################\n",
        "#load/set the model for DA_TF_F1B for Kaggle BTTC dataset\n",
        "Image_shape = (240, 240, 3)\n",
        "ImageNet_TF_F1B_model = load_F1B_model(False, Image_shape)\n",
        "\n",
        "#extract and save Kaggle BTTC features\n",
        "extract_BTTC_features(\"Kaggle BTTC\", \"ImageNet_TF_F1B\")"
      ],
      "metadata": {
        "id": "iEZTXAeZERNH"
      },
      "execution_count": null,
      "outputs": []
    },
    {
      "cell_type": "markdown",
      "source": [
        "Function Calls to Extract and Save Features for the Strategy DA_TF_F2B"
      ],
      "metadata": {
        "id": "DNUo7fw3FVwz"
      }
    },
    {
      "cell_type": "code",
      "source": [
        "########################################################\n",
        "#load/set the model for DA_TF_F2B for HMS/CE-MRI\n",
        "Image_shape = (256, 256, 3)\n",
        "DA_TF_F2B_model = load_F2B_model(True, Image_shape)\n",
        "\n",
        "#extract and save CE-MRI features \n",
        "extract_BTTC_features(\"CE-MRI\", \"DA_TF_F2B\")\n",
        "\n",
        "#extract and save HMS features\n",
        "extract_brain_disease_features(\"HMS\", \"DA_TF_F2B\")\n",
        "\n",
        "########################################################\n",
        "#load/set the model for DA_TF_F2B for Kaggle BTTC dataset\n",
        "Image_shape = (240, 240, 3)\n",
        "DA_TF_F2B_model = load_F2B_model(True, Image_shape)\n",
        "\n",
        "#extract and save Kaggle BTTC features\n",
        "extract_BTTC_features(\"Kaggle BTTC\", \"DA_TF_F2B\")"
      ],
      "metadata": {
        "id": "46aVxd-wFVF1"
      },
      "execution_count": null,
      "outputs": []
    },
    {
      "cell_type": "markdown",
      "source": [
        "Function Calls to Extract and Save Features for the Strategy ImageNet_TF_F2B"
      ],
      "metadata": {
        "id": "u4gU98TNGBLb"
      }
    },
    {
      "cell_type": "code",
      "source": [
        "########################################################\n",
        "#load/set the model for ImageNet_TF_F2B for HMS/CE-MRI\n",
        "Image_shape = (256, 256, 3)\n",
        "ImageNet_TF_F2B_model = load_F2B_model(False, Image_shape)\n",
        "\n",
        "#extract and save CE-MRI features \n",
        "extract_BTTC_features(\"CE-MRI\", \"ImageNet_TF_F2B\")\n",
        "\n",
        "#extract and save HMS features\n",
        "extract_brain_disease_features(\"HMS\", \"ImageNet_TF_F2B\")\n",
        "\n",
        "########################################################\n",
        "#load/set the model for ImageNet_TF_F2B for Kaggle BTTC dataset\n",
        "Image_shape = (240, 240, 3)\n",
        "ImageNet_TF_F2B_model = load_F2B_model(False, Image_shape)\n",
        "\n",
        "#extract and save Kaggle BTTC features\n",
        "extract_BTTC_features(\"Kaggle BTTC\", \"ImageNet_TF_F2B\")"
      ],
      "metadata": {
        "id": "jEFZzFBIGAqF"
      },
      "execution_count": null,
      "outputs": []
    },
    {
      "cell_type": "markdown",
      "source": [
        "Function Calls to Extract and Save Features for the Strategy DA"
      ],
      "metadata": {
        "id": "d0rvdcseGmZj"
      }
    },
    {
      "cell_type": "code",
      "source": [
        "###############################################\n",
        "#load the model for DA strategy for HMS/CE-MRI\n",
        "Image_shape = (256, 256, 3)\n",
        "DA_model = load_complete_architecture_model(\"DA\", Image_shape)\n",
        "\n",
        "#extract and save CE-MRI features \n",
        "extract_BTTC_features(\"CE-MRI\", \"DA\")\n",
        "\n",
        "#extract and save HMS features\n",
        "extract_brain_disease_features(\"HMS\", \"DA\")\n",
        "\n",
        "########################################################\n",
        "#load/set the model for DA for Kaggle BTTC dataset\n",
        "Image_shape = (240, 240, 3)\n",
        "DA_model = load_complete_architecture_model(\"DA\", Image_shape)\n",
        "\n",
        "#extract and save Kaggle BTTC features\n",
        "extract_BTTC_features(\"Kaggle BTTC\", \"DA\")"
      ],
      "metadata": {
        "id": "NmC63Z2oGiqO"
      },
      "execution_count": null,
      "outputs": []
    },
    {
      "cell_type": "markdown",
      "source": [
        "Function Calls to Extract and Save Features for the Strategy DA_L1SB\n",
        "\n",
        "\n"
      ],
      "metadata": {
        "id": "lL7VPxjUHdsp"
      }
    },
    {
      "cell_type": "code",
      "source": [
        "###############################################\n",
        "#load the model for DA_L1SB strategy for HMS/CE-MRI\n",
        "Image_shape = (256, 256, 3)\n",
        "DA_model = load_complete_architecture_model(\"DA_L1SB\", Image_shape)\n",
        "\n",
        "#extract and save CE-MRI features \n",
        "extract_BTTC_features(\"CE-MRI\", \"DA_L1SB\")\n",
        "\n",
        "#extract and save HMS features\n",
        "extract_brain_disease_features(\"HMS\", \"DA_L1SB\")\n",
        "\n",
        "########################################################\n",
        "#load/set the model for DA_L1SB for Kaggle BTTC dataset\n",
        "Image_shape = (240, 240, 3)\n",
        "DA_model = load_complete_architecture_model(\"DA_L1SB\", Image_shape)\n",
        "\n",
        "#extract and save Kaggle BTTC features\n",
        "extract_BTTC_features(\"Kaggle BTTC\", \"DA_L1SB\")"
      ],
      "metadata": {
        "id": "YzAK3UVpHcv7"
      },
      "execution_count": null,
      "outputs": []
    },
    {
      "cell_type": "markdown",
      "source": [
        "Function Calls to Extract and Save Features for the Strategy DA_L2SB\n",
        "\n",
        "\n"
      ],
      "metadata": {
        "id": "RrFomccLIFpA"
      }
    },
    {
      "cell_type": "code",
      "source": [
        "###############################################\n",
        "#load the model for DA_L2SB strategy for HMS/CE-MRI\n",
        "Image_shape = (256, 256, 3)\n",
        "DA_model = load_complete_architecture_model(\"DA_L2SB\", Image_shape)\n",
        "\n",
        "#extract and save CE-MRI features \n",
        "extract_BTTC_features(\"CE-MRI\", \"DA_L2SB\")\n",
        "\n",
        "#extract and save HMS features\n",
        "extract_brain_disease_features(\"HMS\", \"DA_L2SB\")\n",
        "\n",
        "########################################################\n",
        "#load/set the model for DA_L2SB for Kaggle BTTC dataset\n",
        "Image_shape = (240, 240, 3)\n",
        "DA_model = load_complete_architecture_model(\"DA_L2SB\", Image_shape)\n",
        "\n",
        "#extract and save Kaggle BTTC features\n",
        "extract_BTTC_features(\"Kaggle BTTC\", \"DA_L2SB\")"
      ],
      "metadata": {
        "id": "5cb0yl9nIEqs"
      },
      "execution_count": null,
      "outputs": []
    },
    {
      "cell_type": "markdown",
      "source": [
        "Function Calls to Extract and Save Features for the Strategy DA_L1SB_PFT"
      ],
      "metadata": {
        "id": "xKYGEcEzIQB4"
      }
    },
    {
      "cell_type": "code",
      "source": [
        "###############################################\n",
        "#load the model for DA_L1SB_PFT strategy for HMS/CE-MRI\n",
        "Image_shape = (256, 256, 3)\n",
        "DA_model = load_complete_architecture_model(\"DA_L1SB_PFT\", Image_shape)\n",
        "\n",
        "#extract and save CE-MRI features \n",
        "extract_BTTC_features(\"CE-MRI\", \"DA_L1SB_PFT\")\n",
        "\n",
        "#extract and save HMS features\n",
        "extract_brain_disease_features(\"HMS\", \"DA_L1SB_PFT\")\n",
        "\n",
        "########################################################\n",
        "#load/set the model for DA_L1SB_PFT for Kaggle BTTC dataset\n",
        "Image_shape = (240, 240, 3)\n",
        "DA_model = load_complete_architecture_model(\"DA_L1SB_PFT\", Image_shape)\n",
        "\n",
        "#extract and save Kaggle BTTC features\n",
        "extract_BTTC_features(\"Kaggle BTTC\", \"DA_L1SB_PFT\")"
      ],
      "metadata": {
        "id": "QZI2VwnjIPdk"
      },
      "execution_count": null,
      "outputs": []
    },
    {
      "cell_type": "markdown",
      "source": [
        "Function Calls to Extract and Save Features for the Strategy DA_L2SB_PFT"
      ],
      "metadata": {
        "id": "AVGSgHQzIgQp"
      }
    },
    {
      "cell_type": "code",
      "source": [
        "###############################################\n",
        "#load the model for DA_L2SB_PFT strategy for HMS/CE-MRI\n",
        "Image_shape = (256, 256, 3)\n",
        "DA_model = load_complete_architecture_model(\"DA_L2SB_PFT\", Image_shape)\n",
        "\n",
        "#extract and save CE-MRI features \n",
        "extract_BTTC_features(\"CE-MRI\", \"DA_L2SB_PFT\")\n",
        "\n",
        "#extract and save HMS features\n",
        "extract_brain_disease_features(\"HMS\", \"DA_L2SB_PFT\")\n",
        "\n",
        "########################################################\n",
        "#load/set the model for DA_L2SB_PFT for Kaggle BTTC dataset\n",
        "Image_shape = (240, 240, 3)\n",
        "DA_model = load_complete_architecture_model(\"DA_L2SB_PFT\", Image_shape)\n",
        "\n",
        "#extract and save Kaggle BTTC features\n",
        "extract_BTTC_features(\"Kaggle BTTC\", \"DA_L2SB_PFT\")"
      ],
      "metadata": {
        "id": "ZraLCAOgIfq8"
      },
      "execution_count": null,
      "outputs": []
    },
    {
      "cell_type": "markdown",
      "source": [
        "Function Calls to Extract and Save Features for the Strategy ImageNet"
      ],
      "metadata": {
        "id": "9rI5HI44Iun4"
      }
    },
    {
      "cell_type": "code",
      "source": [
        "###############################################\n",
        "#load the model for ImageNet strategy for HMS/CE-MRI\n",
        "Image_shape = (256, 256, 3)\n",
        "DA_model = load_complete_architecture_model(\"ImageNet\", Image_shape)\n",
        "\n",
        "#extract and save CE-MRI features \n",
        "extract_BTTC_features(\"CE-MRI\", \"ImageNet\")\n",
        "\n",
        "#extract and save HMS features\n",
        "extract_brain_disease_features(\"HMS\", \"ImageNet\")\n",
        "\n",
        "########################################################\n",
        "#load/set the model for ImageNet for Kaggle BTTC dataset\n",
        "Image_shape = (240, 240, 3)\n",
        "DA_model = load_complete_architecture_model(\"ImageNet\", Image_shape)\n",
        "\n",
        "#extract and save Kaggle BTTC features\n",
        "extract_BTTC_features(\"Kaggle BTTC\", \"ImageNet\")"
      ],
      "metadata": {
        "id": "lKuv6OKtItdx"
      },
      "execution_count": null,
      "outputs": []
    },
    {
      "cell_type": "code",
      "source": [
        "#Extract and Save Features (CE-MRI)\n",
        "extract_BTTC_features(\"CE-MRI\", \"DA_TF_F1B\")\n",
        "extract_BTTC_features(\"CE-MRI\", \"ImageNet_TF_F1B\")\n",
        "extract_BTTC_features(\"CE-MRI\", \"DA_TF_F2B\")\n",
        "extract_BTTC_features(\"CE-MRI\", \"ImageNet_TF_F2B\")\n",
        "extract_BTTC_features(\"CE-MRI\", \"DA\")\n",
        "extract_BTTC_features(\"CE-MRI\", \"DA_L1SB\")\n",
        "extract_BTTC_features(\"CE-MRI\", \"DA_L2SB\")\n",
        "extract_BTTC_features(\"CE-MRI\", \"DA_L1SB_PFT\")\n",
        "extract_BTTC_features(\"CE-MRI\", \"DA_L2SB_PFT\")\n",
        "extract_BTTC_features(\"CE-MRI\", \"ImageNet\")"
      ],
      "metadata": {
        "id": "ABXZ0z6YdP5K"
      },
      "execution_count": null,
      "outputs": []
    },
    {
      "cell_type": "code",
      "source": [
        "#Extract and Save Features (Kaggle BTTC)\n",
        "extract_BTTC_features(\"Kaggle BTTC\", \"DA_TF_F1B\")\n",
        "extract_BTTC_features(\"Kaggle BTTC\", \"ImageNet_TF_F1B\")\n",
        "extract_BTTC_features(\"Kaggle BTTC\", \"DA_TF_F2B\")\n",
        "extract_BTTC_features(\"Kaggle BTTC\", \"ImageNet_TF_F2B\")\n",
        "extract_BTTC_features(\"Kaggle BTTC\", \"DA\")\n",
        "extract_BTTC_features(\"Kaggle BTTC\", \"DA_L1SB\")\n",
        "extract_BTTC_features(\"Kaggle BTTC\", \"DA_L2SB\")\n",
        "extract_BTTC_features(\"Kaggle BTTC\", \"DA_L1SB_PFT\")\n",
        "extract_BTTC_features(\"Kaggle BTTC\", \"DA_L2SB_PFT\")\n",
        "extract_BTTC_features(\"Kaggle BTTC\", \"ImageNet\")"
      ],
      "metadata": {
        "id": "8TB3fOPNd9aD"
      },
      "execution_count": null,
      "outputs": []
    },
    {
      "cell_type": "code",
      "source": [
        "#Extract and Save Features (HMS)\n",
        "extract_brain_disease_features(\"DA_TF_F1B\")\n",
        "extract_brain_disease_features(\"ImageNet_TF_F1B\")\n",
        "extract_brain_disease_features(\"DA_TF_F2B\")\n",
        "extract_brain_disease_features(\"ImageNet_TF_F2B\")\n",
        "extract_brain_disease_features(\"DA\")\n",
        "extract_brain_disease_features(\"DA_L1SB\")\n",
        "extract_brain_disease_features(\"DA_L2SB\")\n",
        "extract_brain_disease_features(\"DA_L1SB_PFT\")\n",
        "extract_brain_disease_features(\"DA_L2SB_PFT\")\n",
        "extract_brain_disease_features(\"ImageNet\")"
      ],
      "metadata": {
        "id": "tjpHx3HOeNg7"
      },
      "execution_count": null,
      "outputs": []
    }
  ]
}
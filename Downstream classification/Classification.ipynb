{
  "nbformat": 4,
  "nbformat_minor": 0,
  "metadata": {
    "colab": {
      "name": "GitHub_Classification.ipynb",
      "provenance": [],
      "collapsed_sections": []
    },
    "kernelspec": {
      "name": "python3",
      "display_name": "Python 3"
    },
    "language_info": {
      "name": "python"
    }
  },
  "cells": [
    {
      "cell_type": "code",
      "execution_count": null,
      "metadata": {
        "id": "P2Wzcb4I3QDn"
      },
      "outputs": [],
      "source": [
        "#importing necessary libraries\n",
        "import numpy as np\n",
        "import tensorflow as tf\n",
        "from keras import models \n",
        "from keras.models import Sequential\n",
        "from keras.layers import Dense, Activation, Dropout\n",
        "from tensorflow.keras.utils import to_categorical\n",
        "from sklearn.model_selection import train_test_split\n",
        "from keras import optimizers\n",
        "from keras.callbacks import ModelCheckpoint\n",
        "from sklearn.metrics import roc_curve, auc, roc_auc_score"
      ]
    },
    {
      "cell_type": "code",
      "source": [
        "#Run this cell only if your data resides on Google drive\n",
        "from google.colab import drive\n",
        "drive.mount('/content/gdrive')"
      ],
      "metadata": {
        "id": "knT7JchA4PPB"
      },
      "execution_count": null,
      "outputs": []
    },
    {
      "cell_type": "code",
      "source": [
        "#Set base_path to the location where the data and results of your project\n",
        "#reside\n",
        "base_path = '/content/gdrive/MyDrive/HPT/'"
      ],
      "metadata": {
        "id": "aFRB76dk4akg"
      },
      "execution_count": null,
      "outputs": []
    },
    {
      "cell_type": "markdown",
      "source": [
        "#Loading Features and Creating Models"
      ],
      "metadata": {
        "id": "5KIbcZu9n-8T"
      }
    },
    {
      "cell_type": "markdown",
      "source": [
        "##Functions to extract features for CE-MRI and HMS datasets"
      ],
      "metadata": {
        "id": "vOmqu5-7oIor"
      }
    },
    {
      "cell_type": "code",
      "source": [
        "def load_ce_mri_features(strategy):\n",
        "  #load the already extracted features\n",
        "  Meningioma = np.load(base_path + 'Features/' + strategy + '/CE-MRI/Meningioma_Features.npy')\n",
        "  Glioma = np.load(base_path + 'Features/' + strategy + '/CE-MRI/Glioma_Features.npy')\n",
        "  Pituitary = np.load(base_path + 'Features/' + strategy + '/CE-MRI/Pituitary_Features.npy')\n",
        "  \n",
        "  #create labels (0. Meningioma, 1. Glioma, 2. Pituitary)\n",
        "  Meningioma_label = np.zeros((Meningioma.shape[0], 1), dtype=np.uint8)\n",
        "  \n",
        "  Glioma_label = np.zeros((Glioma.shape[0], 1), dtype=np.uint8)\n",
        "  Glioma_label[:, 0] = 1\n",
        "\n",
        "  Pituitary_label = np.zeros((Pituitary.shape[0], 1), dtype=np.uint8)\n",
        "  Pituitary_label[:, 0] = 2\n",
        "\n",
        "  #concatenating all the classes (features and their labels)\n",
        "  TrainX = np.concatenate((Meningioma, Glioma, Pituitary), axis=0)\n",
        "  TrainY = np.concatenate((Meningioma_label, Glioma_label, Pituitary_label), axis=0)\n",
        "\n",
        "  TrainY_one_hot = to_categorical(TrainY, dtype =\"uint8\")\n",
        "\n",
        "  #split into train and test sets (80:20)\n",
        "  TrainX_Split, TestX_split, TrainY_Split, TestY_Split = train_test_split(TrainX, TrainY_one_hot, test_size=0.2, random_state=42, stratify=TrainY_one_hot)\n",
        "\n",
        "  return TrainX_Split, TestX_split, TrainY_Split, TestY_Split;"
      ],
      "metadata": {
        "id": "jPkURVCy46wZ"
      },
      "execution_count": null,
      "outputs": []
    },
    {
      "cell_type": "code",
      "source": [
        "def load_hms_features(strategy):\n",
        "  Cereb = np.load(base_path + 'Features/' + strategy + '/HMS/Cerebrovascular_Features.npy')\n",
        "  Deg = np.load(base_path + 'Features/' + strategy + '/HMS/Degenerative_Features.npy')\n",
        "  Inf = np.load(base_path + 'Features/' + strategy + '/HMS/Inflammatory_Features.npy')\n",
        "  Neo = np.load(base_path + 'Features/' + strategy + '/HMS/Neoplastic_Features.npy')\n",
        "  normal = np.load(base_path + 'Features/' + strategy + '/HMS/Normal_Features.npy')\n",
        "\n",
        "  #creating labels (0. Cerebrovascular, 1. Degenerative, 2. Inflammatory,\n",
        "  #3. Neoplastic, 4. Normal)\n",
        "  Cereb_label = np.zeros((689, 1), dtype=np.uint8)\n",
        "  Deg_label = np.zeros((370, 1), dtype=np.uint8)\n",
        "  Deg_label[:, 0] = 1\n",
        "  Inf_label = np.zeros((463, 1), dtype=np.uint8)\n",
        "  Inf_label[:, 0] = 2\n",
        "  Neo_label = np.zeros((868, 1), dtype=np.uint8)\n",
        "  Neo_label[:, 0] = 3\n",
        "  Normal_label = np.zeros((314, 1), dtype=np.uint8)\n",
        "  Normal_label[:, 0] = 4\n",
        "  \n",
        "  #concatenating all the classes (features and their labels)\n",
        "  TrainX = np.concatenate((Cereb,Deg, Inf, Neo, normal), axis=0)\n",
        "  TrainY = np.concatenate((Cereb_label, Deg_label,Inf_label, Neo_label, Normal_label), axis=0)\n",
        "  \n",
        "  TrainY_one_hot = to_categorical(TrainY, dtype =\"uint8\")\n",
        "\n",
        "  #split into train and test sets (80:20)\n",
        "  TrainX_Split, TestX_split, TrainY_Split, TestY_Split = train_test_split(TrainX, TrainY_one_hot, test_size=0.2, random_state=42, stratify=TrainY_one_hot)\n",
        "  \n",
        "  return TrainX_Split, TestX_split, TrainY_Split, TestY_Split;"
      ],
      "metadata": {
        "id": "XiLPBXKt7_Sd"
      },
      "execution_count": null,
      "outputs": []
    },
    {
      "cell_type": "markdown",
      "source": [
        "##Functions to create models for all the strategies and datasets"
      ],
      "metadata": {
        "id": "vItRI6Aen1Dp"
      }
    },
    {
      "cell_type": "code",
      "source": [
        "def create_model_1_full_architecture(dataset):\n",
        "  if dataset=='HMS':\n",
        "    model_1 = Sequential([\n",
        "      Dense(64, activation='relu', input_shape=(2048,)),\n",
        "      Dense(32, activation='relu'),\n",
        "      Dense(5, activation='softmax')\n",
        "      ])\n",
        "  elif dataset == 'CE-MRI':\n",
        "    model_1 = Sequential([\n",
        "      Dense(64, activation='relu', input_shape=(2048,)),\n",
        "      Dense(32, activation='relu'),\n",
        "      Dense(3, activation='softmax')\n",
        "      ])\n",
        "  \n",
        "  return model_1"
      ],
      "metadata": {
        "id": "R2zkksgtFXmO"
      },
      "execution_count": null,
      "outputs": []
    },
    {
      "cell_type": "code",
      "source": [
        "def create_model_2_full_architecture(dataset):\n",
        "  if dataset==\"HMS\":\n",
        "    model_2 = Sequential([\n",
        "      Dense(512, activation='relu', input_shape=(2048,)),\n",
        "      Dense(256, activation='relu'),\n",
        "      Dense(256, activation='relu'),\n",
        "      Dense(128, activation='relu'),\n",
        "      Dense(5, activation='softmax')\n",
        "    ])\n",
        "  elif dataset==\"CE-MRI\":\n",
        "    model_2 = Sequential([\n",
        "      Dense(512, activation='relu', input_shape=(2048,)),\n",
        "      Dense(256, activation='relu'),\n",
        "      Dense(256, activation='relu'),\n",
        "      Dense(128, activation='relu'),\n",
        "      Dense(3, activation='softmax')\n",
        "    ])\n",
        "  \n",
        "  return model_2"
      ],
      "metadata": {
        "id": "Do5Ex9ReGCtN"
      },
      "execution_count": null,
      "outputs": []
    },
    {
      "cell_type": "code",
      "source": [
        "def create_model_1_F1B(dataset):\n",
        "  if dataset=='HMS':\n",
        "    model_1 = Sequential([\n",
        "      Dense(64, activation='relu', input_shape=(256,)),\n",
        "      Dense(32, activation='relu'),\n",
        "      Dense(5, activation='softmax')\n",
        "      ])\n",
        "  elif dataset == 'CE-MRI':\n",
        "    model_1 = Sequential([\n",
        "      Dense(64, activation='relu', input_shape=(256,)),\n",
        "      Dense(32, activation='relu'),\n",
        "      Dense(3, activation='softmax')\n",
        "      ])\n",
        "  \n",
        "  return model_1"
      ],
      "metadata": {
        "id": "xWxgHzHGGkmn"
      },
      "execution_count": null,
      "outputs": []
    },
    {
      "cell_type": "code",
      "source": [
        "def create_model_2_F1B(dataset):\n",
        "  if dataset==\"HMS\":\n",
        "    model_2 = Sequential([\n",
        "      Dense(512, activation='relu', input_shape=(256,)),\n",
        "      Dense(256, activation='relu'),\n",
        "      Dense(256, activation='relu'),\n",
        "      Dense(128, activation='relu'),\n",
        "      Dense(5, activation='softmax')\n",
        "    ])\n",
        "  elif dataset==\"CE-MRI\":\n",
        "    model_2 = Sequential([\n",
        "      Dense(512, activation='relu', input_shape=(256,)),\n",
        "      Dense(256, activation='relu'),\n",
        "      Dense(256, activation='relu'),\n",
        "      Dense(128, activation='relu'),\n",
        "      Dense(3, activation='softmax')\n",
        "    ])\n",
        "\n",
        "  return model_2"
      ],
      "metadata": {
        "id": "ikv74R4pGpWG"
      },
      "execution_count": null,
      "outputs": []
    },
    {
      "cell_type": "code",
      "source": [
        ""
      ],
      "metadata": {
        "id": "6UWrtTngGy9f"
      },
      "execution_count": null,
      "outputs": []
    },
    {
      "cell_type": "code",
      "source": [
        "def create_model_1_F2B(dataset):\n",
        "  if dataset=='HMS':\n",
        "    model_1 = Sequential([\n",
        "      Dense(64, activation='relu', input_shape=(512,)),\n",
        "      Dense(32, activation='relu'),\n",
        "      Dense(5, activation='softmax')\n",
        "      ])\n",
        "  elif dataset == 'CE-MRI':\n",
        "    model_1 = Sequential([\n",
        "      Dense(64, activation='relu', input_shape=(512,)),\n",
        "      Dense(32, activation='relu'),\n",
        "      Dense(3, activation='softmax')\n",
        "      ])\n",
        "  \n",
        "  return model_1"
      ],
      "metadata": {
        "id": "P4bZfCx-G0-r"
      },
      "execution_count": null,
      "outputs": []
    },
    {
      "cell_type": "code",
      "source": [
        "def create_model_2_F2B(dataset):\n",
        "  if dataset==\"HMS\":\n",
        "    model_2 = Sequential([\n",
        "      Dense(512, activation='relu', input_shape=(512,)),\n",
        "      Dense(256, activation='relu'),\n",
        "      Dense(256, activation='relu'),\n",
        "      Dense(128, activation='relu'),\n",
        "      Dense(5, activation='softmax')\n",
        "    ])\n",
        "  elif dataset==\"CE-MRI\":\n",
        "    model_2 = Sequential([\n",
        "      Dense(512, activation='relu', input_shape=(512,)),\n",
        "      Dense(256, activation='relu'),\n",
        "      Dense(256, activation='relu'),\n",
        "      Dense(128, activation='relu'),\n",
        "      Dense(3, activation='softmax')\n",
        "    ])\n",
        "\n",
        "  return model_2"
      ],
      "metadata": {
        "id": "TWoD3eJYG0-r"
      },
      "execution_count": null,
      "outputs": []
    },
    {
      "cell_type": "markdown",
      "source": [
        "#Conduct Trainings, Save Checkpoints and Evaluate on Test Sets"
      ],
      "metadata": {
        "id": "riNOTWMOUeic"
      }
    },
    {
      "cell_type": "markdown",
      "source": [
        "##Functions to train and evaluate models\n",
        "\n"
      ],
      "metadata": {
        "id": "1jj24ujwUyMM"
      }
    },
    {
      "cell_type": "code",
      "source": [
        "def train_model(strategy, dataset, model_number):\n",
        "  if dataset == \"CE-MRI\":\n",
        "    TrainX, TestX, TrainY, TestY = load_ce_mri_features(strategy)\n",
        "  elif dataset == \"HMS\":\n",
        "    TrainX, TestX, TrainY, TestY = load_hms_features(strategy)\n",
        "\n",
        "  #create model\n",
        "  if strategy == \"DA_TF_F1B\" or strategy == \"ImageNet_TF_F1B\":\n",
        "    if model_number == 1:\n",
        "      model = create_model_1_F1B(dataset)\n",
        "    else:\n",
        "      model = create_model_2_F1B(dataset)\n",
        "  elif strategy == \"DA_TF_F2B\" or strategy == \"ImageNet_TF_F2B\":\n",
        "    if model_number == 1:\n",
        "      model = create_model_1_F2B(dataset)\n",
        "    else:\n",
        "      model = create_model_2_F2B(dataset)\n",
        "  else:\n",
        "    if model_number == 1:\n",
        "      model = create_model_1_full_architecture(dataset)\n",
        "    else:\n",
        "      model = create_model_2_full_architecture(dataset)\n",
        "\n",
        "  #compile the model\n",
        "  model.compile(optimizer = optimizers.Adam(learning_rate=0.00005),\n",
        "              loss=tf.keras.losses.CategoricalCrossentropy(),\n",
        "              metrics=[tf.keras.metrics.CategoricalAccuracy()])\n",
        "  \n",
        "  #create callback\n",
        "  callbacks = []\n",
        "  checkpoint_path = base_path + 'Results/' + strategy + '/' + dataset + '/Model ' + str(model_number) + '/'\n",
        "  callbacks.append(ModelCheckpoint(checkpoint_path + 'checkpoint-{epoch}.h5'))\n",
        "  \n",
        "  #train the model\n",
        "  history = model.fit(TrainX, TrainY, batch_size=64, epochs=500, callbacks=callbacks)\n",
        "#strategy == \"DA_TF_F1B\" or strategy == \"ImageNet_TF_F1B\":"
      ],
      "metadata": {
        "id": "G7VXGT6hcqDD"
      },
      "execution_count": null,
      "outputs": []
    },
    {
      "cell_type": "code",
      "source": [
        "def evaluate_model(strategy, dataset, model_number):\n",
        "  test_set_auc = np.zeros((500,))\n",
        "  checkpoint_path = base_path + 'Results/' + strategy + '/' + dataset + '/Model ' + str(model_number) + '/'\n",
        "  \n",
        "  for i in range(1, 501):\n",
        "    loaded_model = models.load_model(checkpoint_path + 'checkpoint-' + str(i) + '.h5')\n",
        "    y_pred = loaded_model.predict(TestX, steps=TestX.shape[0], verbose=0)\n",
        "    test_set_auc[i] = roc_auc_score(TestY, y_pred, average=\"macro\")\n",
        "\n",
        "  #save test set AUC for all the epochs (1 to 500)\n",
        "  np.save(checkpoint_path + 'TestAUC.npy', test_set_auc)"
      ],
      "metadata": {
        "id": "YBqnHzEef5VY"
      },
      "execution_count": null,
      "outputs": []
    },
    {
      "cell_type": "markdown",
      "source": [
        "##Train and evaluate models for each strategy and dataset by calling functions"
      ],
      "metadata": {
        "id": "FzDinRWOm26_"
      }
    },
    {
      "cell_type": "markdown",
      "source": [
        "DA_TF_F1B"
      ],
      "metadata": {
        "id": "tf5LTwxRhywv"
      }
    },
    {
      "cell_type": "code",
      "source": [
        "#######################CE-MRI (Model 1)#######################\n",
        "train_model(\"DA_TF_F1B\", \"CE-MRI\", 1)\n",
        "evaluate_model(\"DA_TF_F1B\", \"CE-MRI\", 1)"
      ],
      "metadata": {
        "id": "5mvxv-oYhlln"
      },
      "execution_count": null,
      "outputs": []
    },
    {
      "cell_type": "code",
      "source": [
        "#######################CE-MRI (Model 2)#######################\n",
        "train_model(\"DA_TF_F1B\", \"CE-MRI\", 2)\n",
        "evaluate_model(\"DA_TF_F1B\", \"CE-MRI\", 2)"
      ],
      "metadata": {
        "id": "oU79_FiMiMNw"
      },
      "execution_count": null,
      "outputs": []
    },
    {
      "cell_type": "code",
      "source": [
        "#######################HMS (Model 1)#######################\n",
        "train_model(\"DA_TF_F1B\", \"HMS\", 1)\n",
        "evaluate_model(\"DA_TF_F1B\", \"HMS\", 1)"
      ],
      "metadata": {
        "id": "kJbh6ZJBjRNQ"
      },
      "execution_count": null,
      "outputs": []
    },
    {
      "cell_type": "code",
      "source": [
        "#######################HMS (Model 2)#######################\n",
        "train_model(\"DA_TF_F1B\", \"HMS\", 2)\n",
        "evaluate_model(\"DA_TF_F1B\", \"HMS\", 2)"
      ],
      "metadata": {
        "id": "ioMVxQj0jRNQ"
      },
      "execution_count": null,
      "outputs": []
    },
    {
      "cell_type": "markdown",
      "source": [
        "ImageNet_TF_F1B"
      ],
      "metadata": {
        "id": "1JlD_zVoiYRO"
      }
    },
    {
      "cell_type": "code",
      "source": [
        "#######################CE-MRI (Model 1)#######################\n",
        "train_model(\"ImageNet_TF_F1B\", \"CE-MRI\", 1)\n",
        "evaluate_model(\"ImageNet_TF_F1B\", \"CE-MRI\", 1)"
      ],
      "metadata": {
        "id": "wulzCGsbief0"
      },
      "execution_count": null,
      "outputs": []
    },
    {
      "cell_type": "code",
      "source": [
        "#######################CE-MRI (Model 2)#######################\n",
        "train_model(\"ImageNet_TF_F1B\", \"CE-MRI\", 2)\n",
        "evaluate_model(\"ImageNet_TF_F1B\", \"CE-MRI\", 2)"
      ],
      "metadata": {
        "id": "le3eb3jdief1"
      },
      "execution_count": null,
      "outputs": []
    },
    {
      "cell_type": "code",
      "source": [
        "#######################HMS (Model 1)#######################\n",
        "train_model(\"ImageNet_TF_F1B\", \"HMS\", 1)\n",
        "evaluate_model(\"ImageNet_TF_F1B\", \"HMS\", 1)"
      ],
      "metadata": {
        "id": "gjCkN1-ljdQP"
      },
      "execution_count": null,
      "outputs": []
    },
    {
      "cell_type": "code",
      "source": [
        "#######################HMS (Model 2)#######################\n",
        "train_model(\"ImageNet_TF_F1B\", \"HMS\", 2)\n",
        "evaluate_model(\"ImageNet_TF_F1B\", \"HMS\", 2)"
      ],
      "metadata": {
        "id": "gdn3s7pDjdQQ"
      },
      "execution_count": null,
      "outputs": []
    },
    {
      "cell_type": "markdown",
      "source": [
        "DA_TF_F2B"
      ],
      "metadata": {
        "id": "IuMrJxcEijsu"
      }
    },
    {
      "cell_type": "code",
      "source": [
        "#######################CE-MRI (Model 1)#######################\n",
        "train_model(\"DA_TF_F2B\", \"CE-MRI\", 1)\n",
        "evaluate_model(\"DA_TF_F2B\", \"CE-MRI\", 1)"
      ],
      "metadata": {
        "id": "dPHLS5ldipdP"
      },
      "execution_count": null,
      "outputs": []
    },
    {
      "cell_type": "code",
      "source": [
        "#######################CE-MRI (Model 2)#######################\n",
        "train_model(\"DA_TF_F2B\", \"CE-MRI\", 2)\n",
        "evaluate_model(\"DA_TF_F2B\", \"CE-MRI\", 2)"
      ],
      "metadata": {
        "id": "B8c5fhcVipdP"
      },
      "execution_count": null,
      "outputs": []
    },
    {
      "cell_type": "code",
      "source": [
        "#######################HMS (Model 1)#######################\n",
        "train_model(\"DA_TF_F2B\", \"HMS\", 1)\n",
        "evaluate_model(\"DA_TF_F2B\", \"HMS\", 1)"
      ],
      "metadata": {
        "id": "Oe6hGgGejrfv"
      },
      "execution_count": null,
      "outputs": []
    },
    {
      "cell_type": "code",
      "source": [
        "#######################HMS (Model 2)#######################\n",
        "train_model(\"DA_TF_F2B\", \"HMS\", 2)\n",
        "evaluate_model(\"DA_TF_F2B\", \"HMS\", 2)"
      ],
      "metadata": {
        "id": "CEURHOgMjrfw"
      },
      "execution_count": null,
      "outputs": []
    },
    {
      "cell_type": "markdown",
      "source": [
        "ImageNet_TF_F2B"
      ],
      "metadata": {
        "id": "hUZDL-iNiyh3"
      }
    },
    {
      "cell_type": "code",
      "source": [
        "#######################CE-MRI (Model 1)#######################\n",
        "train_model(\"ImageNet_TF_F2B\", \"CE-MRI\", 1)\n",
        "evaluate_model(\"ImageNet_TF_F2B\", \"CE-MRI\", 1)"
      ],
      "metadata": {
        "id": "mhZZywHWi1h_"
      },
      "execution_count": null,
      "outputs": []
    },
    {
      "cell_type": "code",
      "source": [
        "#######################CE-MRI (Model 2)#######################\n",
        "train_model(\"ImageNet_TF_F2B\", \"CE-MRI\", 2)\n",
        "evaluate_model(\"ImageNet_TF_F2B\", \"CE-MRI\", 2)"
      ],
      "metadata": {
        "id": "d4qupF2Ki1h_"
      },
      "execution_count": null,
      "outputs": []
    },
    {
      "cell_type": "code",
      "source": [
        "#######################HMS (Model 1)#######################\n",
        "train_model(\"ImageNet_TF_F2B\", \"HMS\", 1)\n",
        "evaluate_model(\"ImageNet_TF_F2B\", \"HMS\", 1)"
      ],
      "metadata": {
        "id": "eIEulsxEj4E3"
      },
      "execution_count": null,
      "outputs": []
    },
    {
      "cell_type": "code",
      "source": [
        "#######################HMS (Model 2)#######################\n",
        "train_model(\"ImageNet_TF_F2B\", \"HMS\", 2)\n",
        "evaluate_model(\"ImageNet_TF_F2B\", \"HMS\", 2)"
      ],
      "metadata": {
        "id": "M1iz86b2j4E4"
      },
      "execution_count": null,
      "outputs": []
    },
    {
      "cell_type": "markdown",
      "source": [
        "DA"
      ],
      "metadata": {
        "id": "a7aNIvMMi-BR"
      }
    },
    {
      "cell_type": "code",
      "source": [
        "#######################CE-MRI (Model 1)#######################\n",
        "train_model(\"DA\", \"CE-MRI\", 1)\n",
        "evaluate_model(\"DA\", \"CE-MRI\", 1)"
      ],
      "metadata": {
        "id": "CcZhMtVqjBbw"
      },
      "execution_count": null,
      "outputs": []
    },
    {
      "cell_type": "code",
      "source": [
        "#######################CE-MRI (Model 2)#######################\n",
        "train_model(\"DA\", \"CE-MRI\", 2)\n",
        "evaluate_model(\"DA\", \"CE-MRI\", 2)"
      ],
      "metadata": {
        "id": "OO9Z_ZYkjBbw"
      },
      "execution_count": null,
      "outputs": []
    },
    {
      "cell_type": "code",
      "source": [
        "#######################HMS (Model 1)#######################\n",
        "train_model(\"DA\", \"HMS\", 1)\n",
        "evaluate_model(\"DA\", \"HMS\", 1)"
      ],
      "metadata": {
        "id": "cI28pssxj9Ah"
      },
      "execution_count": null,
      "outputs": []
    },
    {
      "cell_type": "code",
      "source": [
        "#######################HMS (Model 2)#######################\n",
        "train_model(\"DA\", \"HMS\", 2)\n",
        "evaluate_model(\"DA\", \"HMS\", 2)"
      ],
      "metadata": {
        "id": "hkEv-HXWj9Ai"
      },
      "execution_count": null,
      "outputs": []
    },
    {
      "cell_type": "markdown",
      "source": [
        "DA_L1SB"
      ],
      "metadata": {
        "id": "SEY2iX45jIDQ"
      }
    },
    {
      "cell_type": "code",
      "source": [
        "#######################CE-MRI (Model 1)#######################\n",
        "train_model(\"DA_L1SB\", \"CE-MRI\", 1)\n",
        "evaluate_model(\"DA_L1SB\", \"CE-MRI\", 1)"
      ],
      "metadata": {
        "id": "mnpDnr48kDgw"
      },
      "execution_count": null,
      "outputs": []
    },
    {
      "cell_type": "code",
      "source": [
        "#######################CE-MRI (Model 2)#######################\n",
        "train_model(\"DA_L1SB\", \"CE-MRI\", 2)\n",
        "evaluate_model(\"DA_L1SB\", \"CE-MRI\", 2)"
      ],
      "metadata": {
        "id": "nqVUJ9OKkDgw"
      },
      "execution_count": null,
      "outputs": []
    },
    {
      "cell_type": "code",
      "source": [
        "#######################HMS (Model 1)#######################\n",
        "train_model(\"DA_L1SB\", \"HMS\", 1)\n",
        "evaluate_model(\"DA_L1SB\", \"HMS\", 1)"
      ],
      "metadata": {
        "id": "8HPuCe9ZkDgx"
      },
      "execution_count": null,
      "outputs": []
    },
    {
      "cell_type": "code",
      "source": [
        "#######################HMS (Model 2)#######################\n",
        "train_model(\"DA_L1SB\", \"HMS\", 2)\n",
        "evaluate_model(\"DA_L1SB\", \"HMS\", 2)"
      ],
      "metadata": {
        "id": "issbo76qkDgx"
      },
      "execution_count": null,
      "outputs": []
    },
    {
      "cell_type": "markdown",
      "source": [
        "DA_L2SB"
      ],
      "metadata": {
        "id": "kDLMdgGmkSHm"
      }
    },
    {
      "cell_type": "code",
      "source": [
        "#######################CE-MRI (Model 1)#######################\n",
        "train_model(\"DA_L2SB\", \"CE-MRI\", 1)\n",
        "evaluate_model(\"DA_L2SB\", \"CE-MRI\", 1)"
      ],
      "metadata": {
        "id": "7sbNd7C1kX7H"
      },
      "execution_count": null,
      "outputs": []
    },
    {
      "cell_type": "code",
      "source": [
        "#######################CE-MRI (Model 2)#######################\n",
        "train_model(\"DA_L2SB\", \"CE-MRI\", 2)\n",
        "evaluate_model(\"DA_L2SB\", \"CE-MRI\", 2)"
      ],
      "metadata": {
        "id": "uDc_2pvdkX7H"
      },
      "execution_count": null,
      "outputs": []
    },
    {
      "cell_type": "code",
      "source": [
        "#######################HMS (Model 1)#######################\n",
        "train_model(\"DA_L2SB\", \"HMS\", 1)\n",
        "evaluate_model(\"DA_L2SB\", \"HMS\", 1)"
      ],
      "metadata": {
        "id": "uLb5YSZYkX7H"
      },
      "execution_count": null,
      "outputs": []
    },
    {
      "cell_type": "code",
      "source": [
        "#######################HMS (Model 2)#######################\n",
        "train_model(\"DA_L2SB\", \"HMS\", 2)\n",
        "evaluate_model(\"DA_L2SB\", \"HMS\", 2)"
      ],
      "metadata": {
        "id": "kNOdDnwKkX7H"
      },
      "execution_count": null,
      "outputs": []
    },
    {
      "cell_type": "markdown",
      "source": [
        "DA_L1SB_PFT"
      ],
      "metadata": {
        "id": "2REdwtzFkcaG"
      }
    },
    {
      "cell_type": "code",
      "source": [
        "#######################CE-MRI (Model 1)#######################\n",
        "train_model(\"DA_L1SB_PFT\", \"CE-MRI\", 1)\n",
        "evaluate_model(\"DA_L1SB_PFT\", \"CE-MRI\", 1)"
      ],
      "metadata": {
        "id": "Xvs3R4SSkjnA"
      },
      "execution_count": null,
      "outputs": []
    },
    {
      "cell_type": "code",
      "source": [
        "#######################CE-MRI (Model 2)#######################\n",
        "train_model(\"DA_L1SB_PFT\", \"CE-MRI\", 2)\n",
        "evaluate_model(\"DA_L1SB_PFT\", \"CE-MRI\", 2)"
      ],
      "metadata": {
        "id": "tMB5VVIDkjnB"
      },
      "execution_count": null,
      "outputs": []
    },
    {
      "cell_type": "code",
      "source": [
        "#######################HMS (Model 1)#######################\n",
        "train_model(\"DA_L1SB_PFT\", \"HMS\", 1)\n",
        "evaluate_model(\"DA_L1SB_PFT\", \"HMS\", 1)"
      ],
      "metadata": {
        "id": "xwWFmOi0kjnB"
      },
      "execution_count": null,
      "outputs": []
    },
    {
      "cell_type": "code",
      "source": [
        "#######################HMS (Model 2)#######################\n",
        "train_model(\"DA_L1SB_PFT\", \"HMS\", 2)\n",
        "evaluate_model(\"DA_L1SB_PFT\", \"HMS\", 2)"
      ],
      "metadata": {
        "id": "iptbGq6MkjnB"
      },
      "execution_count": null,
      "outputs": []
    },
    {
      "cell_type": "markdown",
      "source": [
        "DA_L2SB_PFT"
      ],
      "metadata": {
        "id": "b-cL96V9kobu"
      }
    },
    {
      "cell_type": "code",
      "source": [
        "#######################CE-MRI (Model 1)#######################\n",
        "train_model(\"DA_L2SB_PFT\", \"CE-MRI\", 1)\n",
        "evaluate_model(\"DA_L2SB_PFT\", \"CE-MRI\", 1)"
      ],
      "metadata": {
        "id": "LP3KBwQAkuJg"
      },
      "execution_count": null,
      "outputs": []
    },
    {
      "cell_type": "code",
      "source": [
        "#######################CE-MRI (Model 2)#######################\n",
        "train_model(\"DA_L2SB_PFT\", \"CE-MRI\", 2)\n",
        "evaluate_model(\"DA_L2SB_PFT\", \"CE-MRI\", 2)"
      ],
      "metadata": {
        "id": "_WXdesOFkuJg"
      },
      "execution_count": null,
      "outputs": []
    },
    {
      "cell_type": "code",
      "source": [
        "#######################HMS (Model 1)#######################\n",
        "train_model(\"DA_L2SB_PFT\", \"HMS\", 1)\n",
        "evaluate_model(\"DA_L2SB_PFT\", \"HMS\", 1)"
      ],
      "metadata": {
        "id": "1y63aKFUkuJg"
      },
      "execution_count": null,
      "outputs": []
    },
    {
      "cell_type": "code",
      "source": [
        "#######################HMS (Model 2)#######################\n",
        "train_model(\"DA_L2SB_PFT\", \"HMS\", 2)\n",
        "evaluate_model(\"DA_L2SB_PFT\", \"HMS\", 2)"
      ],
      "metadata": {
        "id": "idsppJYbkuJg"
      },
      "execution_count": null,
      "outputs": []
    },
    {
      "cell_type": "markdown",
      "source": [
        "ImageNet"
      ],
      "metadata": {
        "id": "FPfaIO4qk2Kt"
      }
    },
    {
      "cell_type": "code",
      "source": [
        "#######################CE-MRI (Model 1)#######################\n",
        "train_model(\"ImageNet\", \"CE-MRI\", 1)\n",
        "evaluate_model(\"ImageNet\", \"CE-MRI\", 1)"
      ],
      "metadata": {
        "id": "TlPceHlek5fx"
      },
      "execution_count": null,
      "outputs": []
    },
    {
      "cell_type": "code",
      "source": [
        "#######################CE-MRI (Model 2)#######################\n",
        "train_model(\"ImageNet\", \"CE-MRI\", 2)\n",
        "evaluate_model(\"ImageNet\", \"CE-MRI\", 2)"
      ],
      "metadata": {
        "id": "47MM0OJnk5fy"
      },
      "execution_count": null,
      "outputs": []
    },
    {
      "cell_type": "code",
      "source": [
        "#######################HMS (Model 1)#######################\n",
        "train_model(\"ImageNet\", \"HMS\", 1)\n",
        "evaluate_model(\"ImageNet\", \"HMS\", 1)"
      ],
      "metadata": {
        "id": "Ibr5Bk6tk5fy"
      },
      "execution_count": null,
      "outputs": []
    },
    {
      "cell_type": "code",
      "source": [
        "#######################HMS (Model 2)#######################\n",
        "train_model(\"ImageNet\", \"HMS\", 2)\n",
        "evaluate_model(\"ImageNet\", \"HMS\", 2)"
      ],
      "metadata": {
        "id": "7mhHAfBnk5fy"
      },
      "execution_count": null,
      "outputs": []
    },
    {
      "cell_type": "code",
      "source": [
        ""
      ],
      "metadata": {
        "id": "Gq_euk1bk6kr"
      },
      "execution_count": null,
      "outputs": []
    },
    {
      "cell_type": "code",
      "source": [
        ""
      ],
      "metadata": {
        "id": "n9j-QoIak6of"
      },
      "execution_count": null,
      "outputs": []
    },
    {
      "cell_type": "code",
      "source": [
        "#####################Feature Extraction and Model Creation####################\n",
        "\n",
        "#Load Data (Features) for CE-MRI dataset\n",
        "TrainX, TestX, TrainY, TestY = load_ce_mri_features(\"DA_TF_F1B\")\n",
        "\n",
        "#Create model_1\n",
        "model_1 = create_model_1_F1B('CE-MRI')\n",
        "model_1.compile(optimizer = optimizers.Adam(learning_rate=0.00005),\n",
        "              loss=tf.keras.losses.CategoricalCrossentropy(),\n",
        "              metrics=[tf.keras.metrics.CategoricalAccuracy()])\n",
        "\n",
        "#create callback\n",
        "callbacks = []\n",
        "checkpoint_path = base_path + 'Results/' + strategy + '/CE-MRI/Model 1/'\n",
        "callbacks.append(ModelCheckpoint(checkpoint_path + 'checkpoint-{epoch}.h5'))\n"
      ],
      "metadata": {
        "id": "azG-nEHkJV5T"
      },
      "execution_count": null,
      "outputs": []
    },
    {
      "cell_type": "code",
      "source": [
        "#####################Training#################################\n",
        "history = model_1.fit(TrainX, TrainY, batch_size=64, epochs=500, callbacks=callbacks)"
      ],
      "metadata": {
        "id": "aayQqN8HV8qP"
      },
      "execution_count": null,
      "outputs": []
    },
    {
      "cell_type": "code",
      "source": [
        "######################Evaluate on Test Set####################\n",
        "test_set_auc = np.zeros((500,))\n",
        "for i in range(1, 501):\n",
        "  loaded_model = models.load_model(checkpoint_path + 'checkpoint-' + str(i) + '.h5')\n",
        "  y_pred = loaded_model.predict(TestX, steps=TestX.shape[0], verbose=0)\n",
        "  test_set_auc[i] = roc_auc_score(TestY, y_pred, average=\"macro\")\n",
        "\n",
        "#save test set AUC for all the epochs (1 to 500)\n",
        "np.save(checkpoint_path + 'TestAUC.npy', test_set_auc)"
      ],
      "metadata": {
        "id": "FClgeQ_zXKRH"
      },
      "execution_count": null,
      "outputs": []
    },
    {
      "cell_type": "code",
      "source": [
        "def prepare_train_test_sets(dataset, strategy):\n"
      ],
      "metadata": {
        "id": "9u_pHSz24cqQ"
      },
      "execution_count": null,
      "outputs": []
    },
    {
      "cell_type": "code",
      "source": [
        "def fun():\n",
        "    str = \"geeksforgeeks\"\n",
        "    x   = 20\n",
        "    temp = np.zeros((2, 2))\n",
        "    new_temp = True\n",
        "    return str, x, temp, new_temp;"
      ],
      "metadata": {
        "id": "3E6PQ8zO7hbz"
      },
      "execution_count": null,
      "outputs": []
    },
    {
      "cell_type": "code",
      "source": [
        "a, b, c, d = fun()\n",
        "print (a)\n",
        "print (b)\n",
        "print (c)\n",
        "print (d)"
      ],
      "metadata": {
        "colab": {
          "base_uri": "https://localhost:8080/"
        },
        "id": "bWV2i1dS7iRj",
        "outputId": "9d3fe5f3-2971-4b1f-fd7a-359ffcc0569f"
      },
      "execution_count": null,
      "outputs": [
        {
          "output_type": "stream",
          "name": "stdout",
          "text": [
            "geeksforgeeks\n",
            "20\n",
            "[[0. 0.]\n",
            " [0. 0.]]\n",
            "True\n"
          ]
        }
      ]
    },
    {
      "cell_type": "code",
      "source": [
        ""
      ],
      "metadata": {
        "id": "kEI7u1D37pPz"
      },
      "execution_count": null,
      "outputs": []
    }
  ]
}